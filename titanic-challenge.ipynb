{
 "cells": [
  {
   "cell_type": "code",
   "execution_count": 1,
   "id": "4f4e6691",
   "metadata": {
    "_cell_guid": "b1076dfc-b9ad-4769-8c92-a6c4dae69d19",
    "_uuid": "8f2839f25d086af736a60e9eeb907d3b93b6e0e5",
    "execution": {
     "iopub.execute_input": "2024-08-24T01:07:20.956197Z",
     "iopub.status.busy": "2024-08-24T01:07:20.954979Z",
     "iopub.status.idle": "2024-08-24T01:07:21.432336Z",
     "shell.execute_reply": "2024-08-24T01:07:21.430902Z"
    },
    "papermill": {
     "duration": 0.495145,
     "end_time": "2024-08-24T01:07:21.435465",
     "exception": false,
     "start_time": "2024-08-24T01:07:20.940320",
     "status": "completed"
    },
    "tags": []
   },
   "outputs": [
    {
     "name": "stdout",
     "output_type": "stream",
     "text": [
      "/kaggle/input/titanic/train.csv\n",
      "/kaggle/input/titanic/test.csv\n"
     ]
    }
   ],
   "source": [
    "# This Python 3 environment comes with many helpful analytics libraries installed\n",
    "# It is defined by the kaggle/python Docker image: https://github.com/kaggle/docker-python\n",
    "# For example, here's several helpful packages to load\n",
    "\n",
    "import numpy as np # linear algebra\n",
    "import pandas as pd # data processing, CSV file I/O (e.g. pd.read_csv)\n",
    "\n",
    "# Input data files are available in the read-only \"../input/\" directory\n",
    "# For example, running this (by clicking run or pressing Shift+Enter) will list all files under the input directory\n",
    "\n",
    "import os\n",
    "for dirname, _, filenames in os.walk('/kaggle/input'):\n",
    "    for filename in filenames:\n",
    "        print(os.path.join(dirname, filename))\n",
    "\n",
    "# You can write up to 20GB to the current directory (/kaggle/working/) that gets preserved as output when you create a version using \"Save & Run All\" \n",
    "# You can also write temporary files to /kaggle/temp/, but they won't be saved outside of the current session"
   ]
  },
  {
   "cell_type": "code",
   "execution_count": 2,
   "id": "8eceebc5",
   "metadata": {
    "execution": {
     "iopub.execute_input": "2024-08-24T01:07:21.463271Z",
     "iopub.status.busy": "2024-08-24T01:07:21.462686Z",
     "iopub.status.idle": "2024-08-24T01:07:21.499579Z",
     "shell.execute_reply": "2024-08-24T01:07:21.498375Z"
    },
    "papermill": {
     "duration": 0.05371,
     "end_time": "2024-08-24T01:07:21.502599",
     "exception": false,
     "start_time": "2024-08-24T01:07:21.448889",
     "status": "completed"
    },
    "tags": []
   },
   "outputs": [],
   "source": [
    "import pandas as pd\n",
    "\n",
    "train = pd.read_csv('/kaggle/input/titanic/train.csv')\n",
    "test = pd.read_csv('/kaggle/input/titanic/test.csv')\n"
   ]
  },
  {
   "cell_type": "code",
   "execution_count": 3,
   "id": "a9c3abc2",
   "metadata": {
    "execution": {
     "iopub.execute_input": "2024-08-24T01:07:21.531319Z",
     "iopub.status.busy": "2024-08-24T01:07:21.529995Z",
     "iopub.status.idle": "2024-08-24T01:07:21.544616Z",
     "shell.execute_reply": "2024-08-24T01:07:21.543039Z"
    },
    "papermill": {
     "duration": 0.03156,
     "end_time": "2024-08-24T01:07:21.547484",
     "exception": false,
     "start_time": "2024-08-24T01:07:21.515924",
     "status": "completed"
    },
    "tags": []
   },
   "outputs": [
    {
     "name": "stdout",
     "output_type": "stream",
     "text": [
      "PassengerId      0\n",
      "Survived         0\n",
      "Pclass           0\n",
      "Name             0\n",
      "Sex              0\n",
      "Age            177\n",
      "SibSp            0\n",
      "Parch            0\n",
      "Ticket           0\n",
      "Fare             0\n",
      "Cabin          687\n",
      "Embarked         2\n",
      "dtype: int64\n",
      "PassengerId      0\n",
      "Pclass           0\n",
      "Name             0\n",
      "Sex              0\n",
      "Age             86\n",
      "SibSp            0\n",
      "Parch            0\n",
      "Ticket           0\n",
      "Fare             1\n",
      "Cabin          327\n",
      "Embarked         0\n",
      "dtype: int64\n"
     ]
    }
   ],
   "source": [
    "# Check for missing values in training and test datasets\n",
    "print(train.isnull().sum())\n",
    "print(test.isnull().sum())\n"
   ]
  },
  {
   "cell_type": "code",
   "execution_count": 4,
   "id": "0e0f7572",
   "metadata": {
    "execution": {
     "iopub.execute_input": "2024-08-24T01:07:21.575539Z",
     "iopub.status.busy": "2024-08-24T01:07:21.575068Z",
     "iopub.status.idle": "2024-08-24T01:07:21.611873Z",
     "shell.execute_reply": "2024-08-24T01:07:21.610334Z"
    },
    "papermill": {
     "duration": 0.054104,
     "end_time": "2024-08-24T01:07:21.614986",
     "exception": false,
     "start_time": "2024-08-24T01:07:21.560882",
     "status": "completed"
    },
    "tags": []
   },
   "outputs": [
    {
     "name": "stdout",
     "output_type": "stream",
     "text": [
      "<class 'pandas.core.frame.DataFrame'>\n",
      "RangeIndex: 891 entries, 0 to 890\n",
      "Data columns (total 12 columns):\n",
      " #   Column       Non-Null Count  Dtype  \n",
      "---  ------       --------------  -----  \n",
      " 0   PassengerId  891 non-null    int64  \n",
      " 1   Survived     891 non-null    int64  \n",
      " 2   Pclass       891 non-null    int64  \n",
      " 3   Name         891 non-null    object \n",
      " 4   Sex          891 non-null    object \n",
      " 5   Age          714 non-null    float64\n",
      " 6   SibSp        891 non-null    int64  \n",
      " 7   Parch        891 non-null    int64  \n",
      " 8   Ticket       891 non-null    object \n",
      " 9   Fare         891 non-null    float64\n",
      " 10  Cabin        204 non-null    object \n",
      " 11  Embarked     889 non-null    object \n",
      "dtypes: float64(2), int64(5), object(5)\n",
      "memory usage: 83.7+ KB\n"
     ]
    }
   ],
   "source": [
    "train.info()"
   ]
  },
  {
   "cell_type": "code",
   "execution_count": 5,
   "id": "adcf3776",
   "metadata": {
    "execution": {
     "iopub.execute_input": "2024-08-24T01:07:21.643765Z",
     "iopub.status.busy": "2024-08-24T01:07:21.643339Z",
     "iopub.status.idle": "2024-08-24T01:07:21.654353Z",
     "shell.execute_reply": "2024-08-24T01:07:21.653157Z"
    },
    "papermill": {
     "duration": 0.028107,
     "end_time": "2024-08-24T01:07:21.656699",
     "exception": false,
     "start_time": "2024-08-24T01:07:21.628592",
     "status": "completed"
    },
    "tags": []
   },
   "outputs": [],
   "source": [
    "# Only string values that don't really bring much value\n",
    "train = train.drop(['Ticket', 'Cabin'], axis=1)\n",
    "test = test.drop(['Ticket', 'Cabin'], axis=1)"
   ]
  },
  {
   "cell_type": "markdown",
   "id": "982b6a45",
   "metadata": {
    "papermill": {
     "duration": 0.012433,
     "end_time": "2024-08-24T01:07:21.681749",
     "exception": false,
     "start_time": "2024-08-24T01:07:21.669316",
     "status": "completed"
    },
    "tags": []
   },
   "source": [
    "There are too many Titles, we can sort them based off of important and normal"
   ]
  },
  {
   "cell_type": "code",
   "execution_count": 6,
   "id": "d5b7b669",
   "metadata": {
    "execution": {
     "iopub.execute_input": "2024-08-24T01:07:21.709405Z",
     "iopub.status.busy": "2024-08-24T01:07:21.708931Z",
     "iopub.status.idle": "2024-08-24T01:07:21.722449Z",
     "shell.execute_reply": "2024-08-24T01:07:21.721191Z"
    },
    "papermill": {
     "duration": 0.030717,
     "end_time": "2024-08-24T01:07:21.725139",
     "exception": false,
     "start_time": "2024-08-24T01:07:21.694422",
     "status": "completed"
    },
    "tags": []
   },
   "outputs": [],
   "source": [
    "import re\n",
    "def extract_title(name):\n",
    "    match = re.search(r',\\s*(\\w+)\\.', name)\n",
    "    if match:\n",
    "        return match.group(1)\n",
    "    return \"\"\n",
    "\n",
    "# Extract titles from Name column\n",
    "train['Title'] = train['Name'].apply(extract_title)\n",
    "test['Title'] = test['Name'].apply(extract_title)"
   ]
  },
  {
   "cell_type": "code",
   "execution_count": 7,
   "id": "d01efdc8",
   "metadata": {
    "execution": {
     "iopub.execute_input": "2024-08-24T01:07:21.752901Z",
     "iopub.status.busy": "2024-08-24T01:07:21.752469Z",
     "iopub.status.idle": "2024-08-24T01:07:21.764399Z",
     "shell.execute_reply": "2024-08-24T01:07:21.763092Z"
    },
    "papermill": {
     "duration": 0.028744,
     "end_time": "2024-08-24T01:07:21.767073",
     "exception": false,
     "start_time": "2024-08-24T01:07:21.738329",
     "status": "completed"
    },
    "tags": []
   },
   "outputs": [
    {
     "data": {
      "text/plain": [
       "Title\n",
       "Mr          517\n",
       "Miss        182\n",
       "Mrs         125\n",
       "Master       40\n",
       "Dr            7\n",
       "Rev           6\n",
       "Mlle          2\n",
       "Major         2\n",
       "Col           2\n",
       "              1\n",
       "Capt          1\n",
       "Ms            1\n",
       "Sir           1\n",
       "Lady          1\n",
       "Mme           1\n",
       "Don           1\n",
       "Jonkheer      1\n",
       "Name: count, dtype: int64"
      ]
     },
     "execution_count": 7,
     "metadata": {},
     "output_type": "execute_result"
    }
   ],
   "source": [
    "train['Title'].value_counts()"
   ]
  },
  {
   "cell_type": "code",
   "execution_count": 8,
   "id": "6101f180",
   "metadata": {
    "execution": {
     "iopub.execute_input": "2024-08-24T01:07:21.794696Z",
     "iopub.status.busy": "2024-08-24T01:07:21.794254Z",
     "iopub.status.idle": "2024-08-24T01:07:21.800481Z",
     "shell.execute_reply": "2024-08-24T01:07:21.799231Z"
    },
    "papermill": {
     "duration": 0.023024,
     "end_time": "2024-08-24T01:07:21.803027",
     "exception": false,
     "start_time": "2024-08-24T01:07:21.780003",
     "status": "completed"
    },
    "tags": []
   },
   "outputs": [],
   "source": [
    "high_titles = ['Lady', 'Countess','Capt', 'Col','Don', 'Dr', 'Major', 'Rev', 'Sir', 'Jonkheer', 'Dona']\n",
    "low_titles = ['Mr', 'Mrs', 'Miss', 'Master', 'Mlle', 'Mme', 'Ms', '']"
   ]
  },
  {
   "cell_type": "code",
   "execution_count": 9,
   "id": "c00c9a05",
   "metadata": {
    "execution": {
     "iopub.execute_input": "2024-08-24T01:07:21.831386Z",
     "iopub.status.busy": "2024-08-24T01:07:21.830063Z",
     "iopub.status.idle": "2024-08-24T01:07:21.842162Z",
     "shell.execute_reply": "2024-08-24T01:07:21.840695Z"
    },
    "papermill": {
     "duration": 0.029009,
     "end_time": "2024-08-24T01:07:21.844933",
     "exception": false,
     "start_time": "2024-08-24T01:07:21.815924",
     "status": "completed"
    },
    "tags": []
   },
   "outputs": [],
   "source": [
    "def map_title_to_category(title):\n",
    "    if title in high_titles:\n",
    "        return 0\n",
    "    elif title in low_titles:\n",
    "        return 1\n",
    "    return 1\n",
    "\n",
    "train['Title'] = train['Title'].map(map_title_to_category)\n",
    "test['Title'] = test['Title'].map(map_title_to_category)\n",
    "\n",
    "# Drop the original Name column now that we have their titles \n",
    "# which can be of more use\n",
    "train = train.drop(columns=['Name', 'PassengerId'])\n",
    "test = test.drop(columns=['Name'])"
   ]
  },
  {
   "cell_type": "code",
   "execution_count": 10,
   "id": "3ef6e281",
   "metadata": {
    "execution": {
     "iopub.execute_input": "2024-08-24T01:07:21.872804Z",
     "iopub.status.busy": "2024-08-24T01:07:21.872362Z",
     "iopub.status.idle": "2024-08-24T01:07:21.895533Z",
     "shell.execute_reply": "2024-08-24T01:07:21.894344Z"
    },
    "papermill": {
     "duration": 0.040591,
     "end_time": "2024-08-24T01:07:21.898566",
     "exception": false,
     "start_time": "2024-08-24T01:07:21.857975",
     "status": "completed"
    },
    "tags": []
   },
   "outputs": [
    {
     "data": {
      "text/html": [
       "<div>\n",
       "<style scoped>\n",
       "    .dataframe tbody tr th:only-of-type {\n",
       "        vertical-align: middle;\n",
       "    }\n",
       "\n",
       "    .dataframe tbody tr th {\n",
       "        vertical-align: top;\n",
       "    }\n",
       "\n",
       "    .dataframe thead th {\n",
       "        text-align: right;\n",
       "    }\n",
       "</style>\n",
       "<table border=\"1\" class=\"dataframe\">\n",
       "  <thead>\n",
       "    <tr style=\"text-align: right;\">\n",
       "      <th></th>\n",
       "      <th>Survived</th>\n",
       "      <th>Pclass</th>\n",
       "      <th>Sex</th>\n",
       "      <th>Age</th>\n",
       "      <th>SibSp</th>\n",
       "      <th>Parch</th>\n",
       "      <th>Fare</th>\n",
       "      <th>Embarked</th>\n",
       "      <th>Title</th>\n",
       "    </tr>\n",
       "  </thead>\n",
       "  <tbody>\n",
       "    <tr>\n",
       "      <th>0</th>\n",
       "      <td>0</td>\n",
       "      <td>3</td>\n",
       "      <td>male</td>\n",
       "      <td>22.0</td>\n",
       "      <td>1</td>\n",
       "      <td>0</td>\n",
       "      <td>7.2500</td>\n",
       "      <td>S</td>\n",
       "      <td>1</td>\n",
       "    </tr>\n",
       "    <tr>\n",
       "      <th>1</th>\n",
       "      <td>1</td>\n",
       "      <td>1</td>\n",
       "      <td>female</td>\n",
       "      <td>38.0</td>\n",
       "      <td>1</td>\n",
       "      <td>0</td>\n",
       "      <td>71.2833</td>\n",
       "      <td>C</td>\n",
       "      <td>1</td>\n",
       "    </tr>\n",
       "    <tr>\n",
       "      <th>2</th>\n",
       "      <td>1</td>\n",
       "      <td>3</td>\n",
       "      <td>female</td>\n",
       "      <td>26.0</td>\n",
       "      <td>0</td>\n",
       "      <td>0</td>\n",
       "      <td>7.9250</td>\n",
       "      <td>S</td>\n",
       "      <td>1</td>\n",
       "    </tr>\n",
       "    <tr>\n",
       "      <th>3</th>\n",
       "      <td>1</td>\n",
       "      <td>1</td>\n",
       "      <td>female</td>\n",
       "      <td>35.0</td>\n",
       "      <td>1</td>\n",
       "      <td>0</td>\n",
       "      <td>53.1000</td>\n",
       "      <td>S</td>\n",
       "      <td>1</td>\n",
       "    </tr>\n",
       "    <tr>\n",
       "      <th>4</th>\n",
       "      <td>0</td>\n",
       "      <td>3</td>\n",
       "      <td>male</td>\n",
       "      <td>35.0</td>\n",
       "      <td>0</td>\n",
       "      <td>0</td>\n",
       "      <td>8.0500</td>\n",
       "      <td>S</td>\n",
       "      <td>1</td>\n",
       "    </tr>\n",
       "  </tbody>\n",
       "</table>\n",
       "</div>"
      ],
      "text/plain": [
       "   Survived  Pclass     Sex   Age  SibSp  Parch     Fare Embarked  Title\n",
       "0         0       3    male  22.0      1      0   7.2500        S      1\n",
       "1         1       1  female  38.0      1      0  71.2833        C      1\n",
       "2         1       3  female  26.0      0      0   7.9250        S      1\n",
       "3         1       1  female  35.0      1      0  53.1000        S      1\n",
       "4         0       3    male  35.0      0      0   8.0500        S      1"
      ]
     },
     "execution_count": 10,
     "metadata": {},
     "output_type": "execute_result"
    }
   ],
   "source": [
    "train.head()"
   ]
  },
  {
   "cell_type": "code",
   "execution_count": 11,
   "id": "965554bc",
   "metadata": {
    "execution": {
     "iopub.execute_input": "2024-08-24T01:07:21.927546Z",
     "iopub.status.busy": "2024-08-24T01:07:21.927081Z",
     "iopub.status.idle": "2024-08-24T01:07:21.936457Z",
     "shell.execute_reply": "2024-08-24T01:07:21.935097Z"
    },
    "papermill": {
     "duration": 0.026477,
     "end_time": "2024-08-24T01:07:21.938888",
     "exception": false,
     "start_time": "2024-08-24T01:07:21.912411",
     "status": "completed"
    },
    "tags": []
   },
   "outputs": [],
   "source": [
    "# Assign number value to Male and Female\n",
    "train['Sex'] = train['Sex'].map( {'female': 1, 'male': 0} ).astype(int)\n",
    "test['Sex'] = test['Sex'].map( {'female': 1, 'male': 0} ).astype(int)"
   ]
  },
  {
   "cell_type": "code",
   "execution_count": 12,
   "id": "ed807ad4",
   "metadata": {
    "execution": {
     "iopub.execute_input": "2024-08-24T01:07:21.967351Z",
     "iopub.status.busy": "2024-08-24T01:07:21.966072Z",
     "iopub.status.idle": "2024-08-24T01:07:21.982319Z",
     "shell.execute_reply": "2024-08-24T01:07:21.981104Z"
    },
    "papermill": {
     "duration": 0.033124,
     "end_time": "2024-08-24T01:07:21.985000",
     "exception": false,
     "start_time": "2024-08-24T01:07:21.951876",
     "status": "completed"
    },
    "tags": []
   },
   "outputs": [
    {
     "data": {
      "text/html": [
       "<div>\n",
       "<style scoped>\n",
       "    .dataframe tbody tr th:only-of-type {\n",
       "        vertical-align: middle;\n",
       "    }\n",
       "\n",
       "    .dataframe tbody tr th {\n",
       "        vertical-align: top;\n",
       "    }\n",
       "\n",
       "    .dataframe thead th {\n",
       "        text-align: right;\n",
       "    }\n",
       "</style>\n",
       "<table border=\"1\" class=\"dataframe\">\n",
       "  <thead>\n",
       "    <tr style=\"text-align: right;\">\n",
       "      <th></th>\n",
       "      <th>Survived</th>\n",
       "      <th>Pclass</th>\n",
       "      <th>Sex</th>\n",
       "      <th>Age</th>\n",
       "      <th>SibSp</th>\n",
       "      <th>Parch</th>\n",
       "      <th>Fare</th>\n",
       "      <th>Embarked</th>\n",
       "      <th>Title</th>\n",
       "    </tr>\n",
       "  </thead>\n",
       "  <tbody>\n",
       "    <tr>\n",
       "      <th>0</th>\n",
       "      <td>0</td>\n",
       "      <td>3</td>\n",
       "      <td>0</td>\n",
       "      <td>22.0</td>\n",
       "      <td>1</td>\n",
       "      <td>0</td>\n",
       "      <td>7.2500</td>\n",
       "      <td>S</td>\n",
       "      <td>1</td>\n",
       "    </tr>\n",
       "    <tr>\n",
       "      <th>1</th>\n",
       "      <td>1</td>\n",
       "      <td>1</td>\n",
       "      <td>1</td>\n",
       "      <td>38.0</td>\n",
       "      <td>1</td>\n",
       "      <td>0</td>\n",
       "      <td>71.2833</td>\n",
       "      <td>C</td>\n",
       "      <td>1</td>\n",
       "    </tr>\n",
       "    <tr>\n",
       "      <th>2</th>\n",
       "      <td>1</td>\n",
       "      <td>3</td>\n",
       "      <td>1</td>\n",
       "      <td>26.0</td>\n",
       "      <td>0</td>\n",
       "      <td>0</td>\n",
       "      <td>7.9250</td>\n",
       "      <td>S</td>\n",
       "      <td>1</td>\n",
       "    </tr>\n",
       "    <tr>\n",
       "      <th>3</th>\n",
       "      <td>1</td>\n",
       "      <td>1</td>\n",
       "      <td>1</td>\n",
       "      <td>35.0</td>\n",
       "      <td>1</td>\n",
       "      <td>0</td>\n",
       "      <td>53.1000</td>\n",
       "      <td>S</td>\n",
       "      <td>1</td>\n",
       "    </tr>\n",
       "    <tr>\n",
       "      <th>4</th>\n",
       "      <td>0</td>\n",
       "      <td>3</td>\n",
       "      <td>0</td>\n",
       "      <td>35.0</td>\n",
       "      <td>0</td>\n",
       "      <td>0</td>\n",
       "      <td>8.0500</td>\n",
       "      <td>S</td>\n",
       "      <td>1</td>\n",
       "    </tr>\n",
       "  </tbody>\n",
       "</table>\n",
       "</div>"
      ],
      "text/plain": [
       "   Survived  Pclass  Sex   Age  SibSp  Parch     Fare Embarked  Title\n",
       "0         0       3    0  22.0      1      0   7.2500        S      1\n",
       "1         1       1    1  38.0      1      0  71.2833        C      1\n",
       "2         1       3    1  26.0      0      0   7.9250        S      1\n",
       "3         1       1    1  35.0      1      0  53.1000        S      1\n",
       "4         0       3    0  35.0      0      0   8.0500        S      1"
      ]
     },
     "execution_count": 12,
     "metadata": {},
     "output_type": "execute_result"
    }
   ],
   "source": [
    "train.head()"
   ]
  },
  {
   "cell_type": "markdown",
   "id": "b1755c5d",
   "metadata": {
    "papermill": {
     "duration": 0.01326,
     "end_time": "2024-08-24T01:07:22.011618",
     "exception": false,
     "start_time": "2024-08-24T01:07:21.998358",
     "status": "completed"
    },
    "tags": []
   },
   "source": [
    "Fill NaN's for columns that have some by calculating median/ mode for each"
   ]
  },
  {
   "cell_type": "code",
   "execution_count": 13,
   "id": "cfcf72fa",
   "metadata": {
    "execution": {
     "iopub.execute_input": "2024-08-24T01:07:22.040269Z",
     "iopub.status.busy": "2024-08-24T01:07:22.039792Z",
     "iopub.status.idle": "2024-08-24T01:07:22.054541Z",
     "shell.execute_reply": "2024-08-24T01:07:22.053134Z"
    },
    "papermill": {
     "duration": 0.031987,
     "end_time": "2024-08-24T01:07:22.057076",
     "exception": false,
     "start_time": "2024-08-24T01:07:22.025089",
     "status": "completed"
    },
    "tags": []
   },
   "outputs": [
    {
     "name": "stdout",
     "output_type": "stream",
     "text": [
      "28.0\n",
      "S\n"
     ]
    }
   ],
   "source": [
    "median_age = train['Age'].median()\n",
    "print(median_age)\n",
    "train['Age'] = train['Age'].fillna(median_age)\n",
    "test['Age'] = test['Age'].fillna(median_age)\n",
    "\n",
    "mode_embarked = train['Embarked'].mode()[0]\n",
    "print(mode_embarked)\n",
    "train['Embarked'] = train['Embarked'].fillna(mode_embarked)\n",
    "test['Embarked'] = test['Embarked'].fillna(mode_embarked)"
   ]
  },
  {
   "cell_type": "code",
   "execution_count": 14,
   "id": "e05bb2c1",
   "metadata": {
    "execution": {
     "iopub.execute_input": "2024-08-24T01:07:22.086247Z",
     "iopub.status.busy": "2024-08-24T01:07:22.085767Z",
     "iopub.status.idle": "2024-08-24T01:07:22.095584Z",
     "shell.execute_reply": "2024-08-24T01:07:22.094371Z"
    },
    "papermill": {
     "duration": 0.028432,
     "end_time": "2024-08-24T01:07:22.099026",
     "exception": false,
     "start_time": "2024-08-24T01:07:22.070594",
     "status": "completed"
    },
    "tags": []
   },
   "outputs": [
    {
     "name": "stdout",
     "output_type": "stream",
     "text": [
      "Survived    0\n",
      "Pclass      0\n",
      "Sex         0\n",
      "Age         0\n",
      "SibSp       0\n",
      "Parch       0\n",
      "Fare        0\n",
      "Embarked    0\n",
      "Title       0\n",
      "dtype: int64\n",
      "PassengerId    0\n",
      "Pclass         0\n",
      "Sex            0\n",
      "Age            0\n",
      "SibSp          0\n",
      "Parch          0\n",
      "Fare           1\n",
      "Embarked       0\n",
      "Title          0\n",
      "dtype: int64\n"
     ]
    }
   ],
   "source": [
    "print(train.isnull().sum())\n",
    "print(test.isnull().sum())"
   ]
  },
  {
   "cell_type": "markdown",
   "id": "cff27c1a",
   "metadata": {
    "papermill": {
     "duration": 0.012992,
     "end_time": "2024-08-24T01:07:22.125606",
     "exception": false,
     "start_time": "2024-08-24T01:07:22.112614",
     "status": "completed"
    },
    "tags": []
   },
   "source": [
    "Calculate family size by adding SibSp and Parch"
   ]
  },
  {
   "cell_type": "code",
   "execution_count": 15,
   "id": "0818647b",
   "metadata": {
    "execution": {
     "iopub.execute_input": "2024-08-24T01:07:22.154366Z",
     "iopub.status.busy": "2024-08-24T01:07:22.153857Z",
     "iopub.status.idle": "2024-08-24T01:07:22.162028Z",
     "shell.execute_reply": "2024-08-24T01:07:22.160733Z"
    },
    "papermill": {
     "duration": 0.026341,
     "end_time": "2024-08-24T01:07:22.165331",
     "exception": false,
     "start_time": "2024-08-24T01:07:22.138990",
     "status": "completed"
    },
    "tags": []
   },
   "outputs": [],
   "source": [
    "train['FamilySize'] = train['SibSp'] + train['Parch'] + 1\n",
    "test['FamilySize'] = test['SibSp'] + test['Parch'] + 1"
   ]
  },
  {
   "cell_type": "code",
   "execution_count": 16,
   "id": "bd616b95",
   "metadata": {
    "execution": {
     "iopub.execute_input": "2024-08-24T01:07:22.195350Z",
     "iopub.status.busy": "2024-08-24T01:07:22.194263Z",
     "iopub.status.idle": "2024-08-24T01:07:22.202783Z",
     "shell.execute_reply": "2024-08-24T01:07:22.201519Z"
    },
    "papermill": {
     "duration": 0.026293,
     "end_time": "2024-08-24T01:07:22.205427",
     "exception": false,
     "start_time": "2024-08-24T01:07:22.179134",
     "status": "completed"
    },
    "tags": []
   },
   "outputs": [],
   "source": [
    "train = train.drop(columns=['SibSp', 'Parch'])\n",
    "test = test.drop(columns=['SibSp', 'Parch'])"
   ]
  },
  {
   "cell_type": "markdown",
   "id": "f2edc586",
   "metadata": {
    "papermill": {
     "duration": 0.013563,
     "end_time": "2024-08-24T01:07:22.232863",
     "exception": false,
     "start_time": "2024-08-24T01:07:22.219300",
     "status": "completed"
    },
    "tags": []
   },
   "source": [
    "Divide Fare into 4 price levels and base it off of that"
   ]
  },
  {
   "cell_type": "code",
   "execution_count": 17,
   "id": "7ad72c10",
   "metadata": {
    "execution": {
     "iopub.execute_input": "2024-08-24T01:07:22.261692Z",
     "iopub.status.busy": "2024-08-24T01:07:22.261252Z",
     "iopub.status.idle": "2024-08-24T01:07:22.269116Z",
     "shell.execute_reply": "2024-08-24T01:07:22.267686Z"
    },
    "papermill": {
     "duration": 0.025332,
     "end_time": "2024-08-24T01:07:22.271718",
     "exception": false,
     "start_time": "2024-08-24T01:07:22.246386",
     "status": "completed"
    },
    "tags": []
   },
   "outputs": [],
   "source": [
    "mean_fare = train['Fare'].mean()\n",
    "train['Fare'] = train['Fare'].fillna(mean_fare)\n",
    "test['Fare'] = test['Fare'].fillna(mean_fare)"
   ]
  },
  {
   "cell_type": "code",
   "execution_count": 18,
   "id": "f752c155",
   "metadata": {
    "execution": {
     "iopub.execute_input": "2024-08-24T01:07:22.300753Z",
     "iopub.status.busy": "2024-08-24T01:07:22.300312Z",
     "iopub.status.idle": "2024-08-24T01:07:22.318986Z",
     "shell.execute_reply": "2024-08-24T01:07:22.317952Z"
    },
    "papermill": {
     "duration": 0.036593,
     "end_time": "2024-08-24T01:07:22.321784",
     "exception": false,
     "start_time": "2024-08-24T01:07:22.285191",
     "status": "completed"
    },
    "tags": []
   },
   "outputs": [],
   "source": [
    "bins = pd.qcut(train['Fare'], q=4, labels=False, retbins=True)[1]\n",
    "train['Price'] = pd.cut(train['Fare'], bins=bins, labels=[1, 2, 3, 4], include_lowest=True)\n",
    "test['Price'] = pd.cut(test['Fare'], bins=bins, labels=[1, 2, 3, 4], include_lowest=True)\n",
    "\n",
    "train = train.drop(columns=['Fare'])\n",
    "test = test.drop(columns=['Fare'])"
   ]
  },
  {
   "cell_type": "markdown",
   "id": "478bd41f",
   "metadata": {
    "papermill": {
     "duration": 0.013493,
     "end_time": "2024-08-24T01:07:22.348788",
     "exception": false,
     "start_time": "2024-08-24T01:07:22.335295",
     "status": "completed"
    },
    "tags": []
   },
   "source": [
    "assign each Embarked category to a number"
   ]
  },
  {
   "cell_type": "code",
   "execution_count": 19,
   "id": "32f5648e",
   "metadata": {
    "execution": {
     "iopub.execute_input": "2024-08-24T01:07:22.377461Z",
     "iopub.status.busy": "2024-08-24T01:07:22.376996Z",
     "iopub.status.idle": "2024-08-24T01:07:22.385449Z",
     "shell.execute_reply": "2024-08-24T01:07:22.384319Z"
    },
    "papermill": {
     "duration": 0.025559,
     "end_time": "2024-08-24T01:07:22.387981",
     "exception": false,
     "start_time": "2024-08-24T01:07:22.362422",
     "status": "completed"
    },
    "tags": []
   },
   "outputs": [],
   "source": [
    "train['Embarked'] = train['Embarked'].map( {'S': 0, 'C': 1, 'Q': 2} ).astype(int)\n",
    "test['Embarked'] = test['Embarked'].map( {'S': 0, 'C': 1, 'Q': 2} ).astype(int)\n"
   ]
  },
  {
   "cell_type": "markdown",
   "id": "5b3496fa",
   "metadata": {
    "papermill": {
     "duration": 0.013102,
     "end_time": "2024-08-24T01:07:22.414599",
     "exception": false,
     "start_time": "2024-08-24T01:07:22.401497",
     "status": "completed"
    },
    "tags": []
   },
   "source": [
    "Try 1: oOmparing results of Logistic Regression, RFC, BRFC, and Perceptron"
   ]
  },
  {
   "cell_type": "code",
   "execution_count": 20,
   "id": "9db9ab9b",
   "metadata": {
    "execution": {
     "iopub.execute_input": "2024-08-24T01:07:22.443312Z",
     "iopub.status.busy": "2024-08-24T01:07:22.442850Z",
     "iopub.status.idle": "2024-08-24T01:07:24.438184Z",
     "shell.execute_reply": "2024-08-24T01:07:24.436851Z"
    },
    "papermill": {
     "duration": 2.012986,
     "end_time": "2024-08-24T01:07:24.441125",
     "exception": false,
     "start_time": "2024-08-24T01:07:22.428139",
     "status": "completed"
    },
    "tags": []
   },
   "outputs": [],
   "source": [
    "from sklearn.linear_model import LogisticRegression\n",
    "from sklearn.ensemble import RandomForestClassifier\n",
    "from imblearn.ensemble import BalancedRandomForestClassifier\n",
    "from sklearn.linear_model import Perceptron\n",
    "from sklearn.model_selection import train_test_split\n",
    "from sklearn.metrics import accuracy_score, roc_auc_score, f1_score, recall_score\n"
   ]
  },
  {
   "cell_type": "code",
   "execution_count": 21,
   "id": "70194387",
   "metadata": {
    "execution": {
     "iopub.execute_input": "2024-08-24T01:07:24.471194Z",
     "iopub.status.busy": "2024-08-24T01:07:24.469981Z",
     "iopub.status.idle": "2024-08-24T01:07:24.479007Z",
     "shell.execute_reply": "2024-08-24T01:07:24.477832Z"
    },
    "papermill": {
     "duration": 0.026581,
     "end_time": "2024-08-24T01:07:24.481584",
     "exception": false,
     "start_time": "2024-08-24T01:07:24.455003",
     "status": "completed"
    },
    "tags": []
   },
   "outputs": [],
   "source": [
    "X_train = train.drop(\"Survived\", axis=1)\n",
    "Y_train = train[\"Survived\"]\n",
    "X_test  = test.drop(\"PassengerId\", axis=1).copy()"
   ]
  },
  {
   "cell_type": "code",
   "execution_count": 22,
   "id": "f48f6e6e",
   "metadata": {
    "execution": {
     "iopub.execute_input": "2024-08-24T01:07:24.510416Z",
     "iopub.status.busy": "2024-08-24T01:07:24.509944Z",
     "iopub.status.idle": "2024-08-24T01:07:24.516517Z",
     "shell.execute_reply": "2024-08-24T01:07:24.515354Z"
    },
    "papermill": {
     "duration": 0.023867,
     "end_time": "2024-08-24T01:07:24.518927",
     "exception": false,
     "start_time": "2024-08-24T01:07:24.495060",
     "status": "completed"
    },
    "tags": []
   },
   "outputs": [],
   "source": [
    "classifiers = {\n",
    "    \"Logistic Regression\": LogisticRegression(max_iter=1000, random_state=42),\n",
    "    \"Random Forest\": RandomForestClassifier(random_state=42),\n",
    "    \"Balanced Random Forest\": BalancedRandomForestClassifier(random_state=42),\n",
    "    \"Perceptron\": Perceptron(max_iter=1000, random_state=42)\n",
    "}"
   ]
  },
  {
   "cell_type": "code",
   "execution_count": 23,
   "id": "0bbb6085",
   "metadata": {
    "execution": {
     "iopub.execute_input": "2024-08-24T01:07:24.548243Z",
     "iopub.status.busy": "2024-08-24T01:07:24.547338Z",
     "iopub.status.idle": "2024-08-24T01:07:24.603545Z",
     "shell.execute_reply": "2024-08-24T01:07:24.602100Z"
    },
    "papermill": {
     "duration": 0.074175,
     "end_time": "2024-08-24T01:07:24.606583",
     "exception": false,
     "start_time": "2024-08-24T01:07:24.532408",
     "status": "completed"
    },
    "tags": []
   },
   "outputs": [
    {
     "name": "stderr",
     "output_type": "stream",
     "text": [
      "/opt/conda/lib/python3.10/site-packages/sklearn/linear_model/_logistic.py:458: ConvergenceWarning: lbfgs failed to converge (status=1):\n",
      "STOP: TOTAL NO. of ITERATIONS REACHED LIMIT.\n",
      "\n",
      "Increase the number of iterations (max_iter) or scale the data as shown in:\n",
      "    https://scikit-learn.org/stable/modules/preprocessing.html\n",
      "Please also refer to the documentation for alternative solver options:\n",
      "    https://scikit-learn.org/stable/modules/linear_model.html#logistic-regression\n",
      "  n_iter_i = _check_optimize_result(\n"
     ]
    },
    {
     "data": {
      "text/plain": [
       "80.25"
      ]
     },
     "execution_count": 23,
     "metadata": {},
     "output_type": "execute_result"
    }
   ],
   "source": [
    "logreg = LogisticRegression()\n",
    "logreg.fit(X_train, Y_train)\n",
    "Y_pred = logreg.predict(X_test)\n",
    "acc_log = round(logreg.score(X_train, Y_train) * 100, 2)\n",
    "acc_log"
   ]
  },
  {
   "cell_type": "code",
   "execution_count": 24,
   "id": "f24b4503",
   "metadata": {
    "execution": {
     "iopub.execute_input": "2024-08-24T01:07:24.635909Z",
     "iopub.status.busy": "2024-08-24T01:07:24.635460Z",
     "iopub.status.idle": "2024-08-24T01:07:25.199374Z",
     "shell.execute_reply": "2024-08-24T01:07:25.198086Z"
    },
    "papermill": {
     "duration": 0.581788,
     "end_time": "2024-08-24T01:07:25.202104",
     "exception": false,
     "start_time": "2024-08-24T01:07:24.620316",
     "status": "completed"
    },
    "tags": []
   },
   "outputs": [
    {
     "name": "stderr",
     "output_type": "stream",
     "text": [
      "/opt/conda/lib/python3.10/site-packages/imblearn/ensemble/_forest.py:577: FutureWarning: The default of `sampling_strategy` will change from `'auto'` to `'all'` in version 0.13. This change will follow the implementation proposed in the original paper. Set to `'all'` to silence this warning and adopt the future behaviour.\n",
      "  warn(\n",
      "/opt/conda/lib/python3.10/site-packages/imblearn/ensemble/_forest.py:589: FutureWarning: The default of `replacement` will change from `False` to `True` in version 0.13. This change will follow the implementation proposed in the original paper. Set to `True` to silence this warning and adopt the future behaviour.\n",
      "  warn(\n",
      "/opt/conda/lib/python3.10/site-packages/imblearn/ensemble/_forest.py:601: FutureWarning: The default of `bootstrap` will change from `True` to `False` in version 0.13. This change will follow the implementation proposed in the original paper. Set to `False` to silence this warning and adopt the future behaviour.\n",
      "  warn(\n"
     ]
    },
    {
     "data": {
      "text/plain": [
       "92.48"
      ]
     },
     "execution_count": 24,
     "metadata": {},
     "output_type": "execute_result"
    }
   ],
   "source": [
    "random_forest = BalancedRandomForestClassifier(n_estimators=100)\n",
    "random_forest.fit(X_train, Y_train)\n",
    "Y_pred = random_forest.predict(X_test)\n",
    "random_forest.score(X_train, Y_train)\n",
    "acc_random_forest = round(random_forest.score(X_train, Y_train) * 100, 2)\n",
    "acc_random_forest"
   ]
  },
  {
   "cell_type": "code",
   "execution_count": 25,
   "id": "c7d452ea",
   "metadata": {
    "execution": {
     "iopub.execute_input": "2024-08-24T01:07:25.232883Z",
     "iopub.status.busy": "2024-08-24T01:07:25.232407Z",
     "iopub.status.idle": "2024-08-24T01:07:25.237746Z",
     "shell.execute_reply": "2024-08-24T01:07:25.236704Z"
    },
    "papermill": {
     "duration": 0.023614,
     "end_time": "2024-08-24T01:07:25.240288",
     "exception": false,
     "start_time": "2024-08-24T01:07:25.216674",
     "status": "completed"
    },
    "tags": []
   },
   "outputs": [],
   "source": [
    "# submission = pd.DataFrame({\n",
    "#         \"PassengerId\": test[\"PassengerId\"],\n",
    "#         \"Survived\": Y_pred\n",
    "#     })\n",
    "# submission.to_csv('submission_balanced.csv', index=False)"
   ]
  },
  {
   "cell_type": "markdown",
   "id": "fa8e9404",
   "metadata": {
    "papermill": {
     "duration": 0.01369,
     "end_time": "2024-08-24T01:07:25.267983",
     "exception": false,
     "start_time": "2024-08-24T01:07:25.254293",
     "status": "completed"
    },
    "tags": []
   },
   "source": [
    "Training a classifier"
   ]
  },
  {
   "cell_type": "code",
   "execution_count": 26,
   "id": "02829e80",
   "metadata": {
    "execution": {
     "iopub.execute_input": "2024-08-24T01:07:25.297919Z",
     "iopub.status.busy": "2024-08-24T01:07:25.297479Z",
     "iopub.status.idle": "2024-08-24T01:07:25.304530Z",
     "shell.execute_reply": "2024-08-24T01:07:25.303263Z"
    },
    "papermill": {
     "duration": 0.024906,
     "end_time": "2024-08-24T01:07:25.307103",
     "exception": false,
     "start_time": "2024-08-24T01:07:25.282197",
     "status": "completed"
    },
    "tags": []
   },
   "outputs": [],
   "source": [
    "y = train['Survived']\n",
    "X = train.drop([\"Survived\", \"Sex\"], axis=1)"
   ]
  },
  {
   "cell_type": "code",
   "execution_count": 27,
   "id": "ac9d0f64",
   "metadata": {
    "execution": {
     "iopub.execute_input": "2024-08-24T01:07:25.337567Z",
     "iopub.status.busy": "2024-08-24T01:07:25.336668Z",
     "iopub.status.idle": "2024-08-24T01:07:25.352163Z",
     "shell.execute_reply": "2024-08-24T01:07:25.350755Z"
    },
    "papermill": {
     "duration": 0.033795,
     "end_time": "2024-08-24T01:07:25.355031",
     "exception": false,
     "start_time": "2024-08-24T01:07:25.321236",
     "status": "completed"
    },
    "tags": []
   },
   "outputs": [
    {
     "data": {
      "text/html": [
       "<div>\n",
       "<style scoped>\n",
       "    .dataframe tbody tr th:only-of-type {\n",
       "        vertical-align: middle;\n",
       "    }\n",
       "\n",
       "    .dataframe tbody tr th {\n",
       "        vertical-align: top;\n",
       "    }\n",
       "\n",
       "    .dataframe thead th {\n",
       "        text-align: right;\n",
       "    }\n",
       "</style>\n",
       "<table border=\"1\" class=\"dataframe\">\n",
       "  <thead>\n",
       "    <tr style=\"text-align: right;\">\n",
       "      <th></th>\n",
       "      <th>Survived</th>\n",
       "      <th>Pclass</th>\n",
       "      <th>Sex</th>\n",
       "      <th>Age</th>\n",
       "      <th>Embarked</th>\n",
       "      <th>Title</th>\n",
       "      <th>FamilySize</th>\n",
       "      <th>Price</th>\n",
       "    </tr>\n",
       "  </thead>\n",
       "  <tbody>\n",
       "    <tr>\n",
       "      <th>0</th>\n",
       "      <td>0</td>\n",
       "      <td>3</td>\n",
       "      <td>0</td>\n",
       "      <td>22.0</td>\n",
       "      <td>0</td>\n",
       "      <td>1</td>\n",
       "      <td>2</td>\n",
       "      <td>1</td>\n",
       "    </tr>\n",
       "    <tr>\n",
       "      <th>1</th>\n",
       "      <td>1</td>\n",
       "      <td>1</td>\n",
       "      <td>1</td>\n",
       "      <td>38.0</td>\n",
       "      <td>1</td>\n",
       "      <td>1</td>\n",
       "      <td>2</td>\n",
       "      <td>4</td>\n",
       "    </tr>\n",
       "    <tr>\n",
       "      <th>2</th>\n",
       "      <td>1</td>\n",
       "      <td>3</td>\n",
       "      <td>1</td>\n",
       "      <td>26.0</td>\n",
       "      <td>0</td>\n",
       "      <td>1</td>\n",
       "      <td>1</td>\n",
       "      <td>2</td>\n",
       "    </tr>\n",
       "  </tbody>\n",
       "</table>\n",
       "</div>"
      ],
      "text/plain": [
       "   Survived  Pclass  Sex   Age  Embarked  Title  FamilySize Price\n",
       "0         0       3    0  22.0         0      1           2     1\n",
       "1         1       1    1  38.0         1      1           2     4\n",
       "2         1       3    1  26.0         0      1           1     2"
      ]
     },
     "execution_count": 27,
     "metadata": {},
     "output_type": "execute_result"
    }
   ],
   "source": [
    "train.head(3)"
   ]
  },
  {
   "cell_type": "code",
   "execution_count": 28,
   "id": "f28c8db6",
   "metadata": {
    "execution": {
     "iopub.execute_input": "2024-08-24T01:07:25.386136Z",
     "iopub.status.busy": "2024-08-24T01:07:25.385051Z",
     "iopub.status.idle": "2024-08-24T01:07:25.403817Z",
     "shell.execute_reply": "2024-08-24T01:07:25.402443Z"
    },
    "papermill": {
     "duration": 0.037229,
     "end_time": "2024-08-24T01:07:25.406629",
     "exception": false,
     "start_time": "2024-08-24T01:07:25.369400",
     "status": "completed"
    },
    "tags": []
   },
   "outputs": [],
   "source": [
    "from sklearn.impute import SimpleImputer\n",
    "from sklearn.preprocessing import OneHotEncoder\n",
    "from sklearn.compose import ColumnTransformer\n",
    "from sklearn.pipeline import Pipeline\n",
    "from sklearn.ensemble import RandomForestClassifier\n",
    "from sklearn.model_selection import cross_val_score"
   ]
  },
  {
   "cell_type": "code",
   "execution_count": 29,
   "id": "40f7dabf",
   "metadata": {
    "execution": {
     "iopub.execute_input": "2024-08-24T01:07:25.437190Z",
     "iopub.status.busy": "2024-08-24T01:07:25.436698Z",
     "iopub.status.idle": "2024-08-24T01:07:39.665448Z",
     "shell.execute_reply": "2024-08-24T01:07:39.664070Z"
    },
    "papermill": {
     "duration": 14.24727,
     "end_time": "2024-08-24T01:07:39.668256",
     "exception": false,
     "start_time": "2024-08-24T01:07:25.420986",
     "status": "completed"
    },
    "tags": []
   },
   "outputs": [
    {
     "name": "stdout",
     "output_type": "stream",
     "text": [
      "Cross validation score: 0.722\n"
     ]
    }
   ],
   "source": [
    "numerical_cols = ['Pclass', 'Age', 'Embarked', 'Title', 'FamilySize', 'Price']\n",
    "\n",
    "numerical_transformer = SimpleImputer(strategy='median')\n",
    "\n",
    "preprocessor = ColumnTransformer(\n",
    "    transformers=[\n",
    "        ('num', numerical_transformer, numerical_cols)\n",
    "    ])\n",
    "\n",
    "titanic_pipeline = Pipeline(steps=[\n",
    "    ('preprocessor', preprocessor),\n",
    "    ('model', RandomForestClassifier(random_state=0, n_estimators=500, max_depth=5))\n",
    "])\n",
    "\n",
    "titanic_pipeline.fit(X, y)\n",
    "\n",
    "# Cross-validation\n",
    "print('Cross validation score: {:.3f}'.format(cross_val_score(titanic_pipeline, X, y, cv=10).mean()))"
   ]
  },
  {
   "cell_type": "code",
   "execution_count": 30,
   "id": "efeb5811",
   "metadata": {
    "execution": {
     "iopub.execute_input": "2024-08-24T01:07:39.699337Z",
     "iopub.status.busy": "2024-08-24T01:07:39.698811Z",
     "iopub.status.idle": "2024-08-24T01:07:39.715634Z",
     "shell.execute_reply": "2024-08-24T01:07:39.714523Z"
    },
    "papermill": {
     "duration": 0.035407,
     "end_time": "2024-08-24T01:07:39.718207",
     "exception": false,
     "start_time": "2024-08-24T01:07:39.682800",
     "status": "completed"
    },
    "tags": []
   },
   "outputs": [
    {
     "data": {
      "text/html": [
       "<div>\n",
       "<style scoped>\n",
       "    .dataframe tbody tr th:only-of-type {\n",
       "        vertical-align: middle;\n",
       "    }\n",
       "\n",
       "    .dataframe tbody tr th {\n",
       "        vertical-align: top;\n",
       "    }\n",
       "\n",
       "    .dataframe thead th {\n",
       "        text-align: right;\n",
       "    }\n",
       "</style>\n",
       "<table border=\"1\" class=\"dataframe\">\n",
       "  <thead>\n",
       "    <tr style=\"text-align: right;\">\n",
       "      <th></th>\n",
       "      <th>PassengerId</th>\n",
       "      <th>Pclass</th>\n",
       "      <th>Age</th>\n",
       "      <th>Embarked</th>\n",
       "      <th>Title</th>\n",
       "      <th>FamilySize</th>\n",
       "      <th>Price</th>\n",
       "    </tr>\n",
       "  </thead>\n",
       "  <tbody>\n",
       "    <tr>\n",
       "      <th>0</th>\n",
       "      <td>892</td>\n",
       "      <td>3</td>\n",
       "      <td>34.5</td>\n",
       "      <td>2</td>\n",
       "      <td>1</td>\n",
       "      <td>1</td>\n",
       "      <td>1</td>\n",
       "    </tr>\n",
       "    <tr>\n",
       "      <th>1</th>\n",
       "      <td>893</td>\n",
       "      <td>3</td>\n",
       "      <td>47.0</td>\n",
       "      <td>0</td>\n",
       "      <td>1</td>\n",
       "      <td>2</td>\n",
       "      <td>1</td>\n",
       "    </tr>\n",
       "    <tr>\n",
       "      <th>2</th>\n",
       "      <td>894</td>\n",
       "      <td>2</td>\n",
       "      <td>62.0</td>\n",
       "      <td>2</td>\n",
       "      <td>1</td>\n",
       "      <td>1</td>\n",
       "      <td>2</td>\n",
       "    </tr>\n",
       "    <tr>\n",
       "      <th>3</th>\n",
       "      <td>895</td>\n",
       "      <td>3</td>\n",
       "      <td>27.0</td>\n",
       "      <td>0</td>\n",
       "      <td>1</td>\n",
       "      <td>1</td>\n",
       "      <td>2</td>\n",
       "    </tr>\n",
       "    <tr>\n",
       "      <th>4</th>\n",
       "      <td>896</td>\n",
       "      <td>3</td>\n",
       "      <td>22.0</td>\n",
       "      <td>0</td>\n",
       "      <td>1</td>\n",
       "      <td>3</td>\n",
       "      <td>2</td>\n",
       "    </tr>\n",
       "  </tbody>\n",
       "</table>\n",
       "</div>"
      ],
      "text/plain": [
       "   PassengerId  Pclass   Age  Embarked  Title  FamilySize Price\n",
       "0          892       3  34.5         2      1           1     1\n",
       "1          893       3  47.0         0      1           2     1\n",
       "2          894       2  62.0         2      1           1     2\n",
       "3          895       3  27.0         0      1           1     2\n",
       "4          896       3  22.0         0      1           3     2"
      ]
     },
     "execution_count": 30,
     "metadata": {},
     "output_type": "execute_result"
    }
   ],
   "source": [
    "X_test = test.drop(\"Sex\", axis=1)\n",
    "X_test.head()"
   ]
  },
  {
   "cell_type": "code",
   "execution_count": 31,
   "id": "e11d42fc",
   "metadata": {
    "execution": {
     "iopub.execute_input": "2024-08-24T01:07:39.749584Z",
     "iopub.status.busy": "2024-08-24T01:07:39.749112Z",
     "iopub.status.idle": "2024-08-24T01:07:39.811736Z",
     "shell.execute_reply": "2024-08-24T01:07:39.810684Z"
    },
    "papermill": {
     "duration": 0.081456,
     "end_time": "2024-08-24T01:07:39.814636",
     "exception": false,
     "start_time": "2024-08-24T01:07:39.733180",
     "status": "completed"
    },
    "tags": []
   },
   "outputs": [],
   "source": [
    "predictions = titanic_pipeline.predict(X_test)"
   ]
  },
  {
   "cell_type": "code",
   "execution_count": 32,
   "id": "f5b6cbae",
   "metadata": {
    "execution": {
     "iopub.execute_input": "2024-08-24T01:07:39.845668Z",
     "iopub.status.busy": "2024-08-24T01:07:39.845211Z",
     "iopub.status.idle": "2024-08-24T01:07:39.855741Z",
     "shell.execute_reply": "2024-08-24T01:07:39.854536Z"
    },
    "papermill": {
     "duration": 0.02905,
     "end_time": "2024-08-24T01:07:39.858393",
     "exception": false,
     "start_time": "2024-08-24T01:07:39.829343",
     "status": "completed"
    },
    "tags": []
   },
   "outputs": [],
   "source": [
    "output = pd.DataFrame({'PassengerId': test.PassengerId, 'Survived': predictions})\n",
    "output.to_csv('my_submission.csv', index=False)"
   ]
  },
  {
   "cell_type": "code",
   "execution_count": null,
   "id": "20c101ab",
   "metadata": {
    "papermill": {
     "duration": 0.013988,
     "end_time": "2024-08-24T01:07:39.887062",
     "exception": false,
     "start_time": "2024-08-24T01:07:39.873074",
     "status": "completed"
    },
    "tags": []
   },
   "outputs": [],
   "source": []
  }
 ],
 "metadata": {
  "kaggle": {
   "accelerator": "none",
   "dataSources": [
    {
     "datasetId": 5581696,
     "sourceId": 9228709,
     "sourceType": "datasetVersion"
    }
   ],
   "dockerImageVersionId": 30761,
   "isGpuEnabled": false,
   "isInternetEnabled": false,
   "language": "python",
   "sourceType": "notebook"
  },
  "kernelspec": {
   "display_name": "Python 3",
   "language": "python",
   "name": "python3"
  },
  "language_info": {
   "codemirror_mode": {
    "name": "ipython",
    "version": 3
   },
   "file_extension": ".py",
   "mimetype": "text/x-python",
   "name": "python",
   "nbconvert_exporter": "python",
   "pygments_lexer": "ipython3",
   "version": "3.10.14"
  },
  "papermill": {
   "default_parameters": {},
   "duration": 22.842818,
   "end_time": "2024-08-24T01:07:40.625291",
   "environment_variables": {},
   "exception": null,
   "input_path": "__notebook__.ipynb",
   "output_path": "__notebook__.ipynb",
   "parameters": {},
   "start_time": "2024-08-24T01:07:17.782473",
   "version": "2.6.0"
  }
 },
 "nbformat": 4,
 "nbformat_minor": 5
}
