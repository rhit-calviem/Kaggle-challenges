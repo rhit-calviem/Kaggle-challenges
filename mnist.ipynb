{
 "cells": [
  {
   "cell_type": "code",
   "execution_count": 1,
   "id": "04e9bc05",
   "metadata": {
    "_cell_guid": "b1076dfc-b9ad-4769-8c92-a6c4dae69d19",
    "_uuid": "8f2839f25d086af736a60e9eeb907d3b93b6e0e5",
    "execution": {
     "iopub.execute_input": "2024-08-25T16:25:13.775103Z",
     "iopub.status.busy": "2024-08-25T16:25:13.774631Z",
     "iopub.status.idle": "2024-08-25T16:25:14.235823Z",
     "shell.execute_reply": "2024-08-25T16:25:14.234374Z"
    },
    "papermill": {
     "duration": 0.473062,
     "end_time": "2024-08-25T16:25:14.239090",
     "exception": false,
     "start_time": "2024-08-25T16:25:13.766028",
     "status": "completed"
    },
    "tags": []
   },
   "outputs": [
    {
     "name": "stdout",
     "output_type": "stream",
     "text": [
      "/kaggle/input/mnist-data/train.csv\n",
      "/kaggle/input/mnist-data/test.csv\n"
     ]
    }
   ],
   "source": [
    "# This Python 3 environment comes with many helpful analytics libraries installed\n",
    "# It is defined by the kaggle/python Docker image: https://github.com/kaggle/docker-python\n",
    "# For example, here's several helpful packages to load\n",
    "\n",
    "import numpy as np # linear algebra\n",
    "import pandas as pd # data processing, CSV file I/O (e.g. pd.read_csv)\n",
    "\n",
    "# Input data files are available in the read-only \"../input/\" directory\n",
    "# For example, running this (by clicking run or pressing Shift+Enter) will list all files under the input directory\n",
    "\n",
    "import os\n",
    "for dirname, _, filenames in os.walk('/kaggle/input'):\n",
    "    for filename in filenames:\n",
    "        print(os.path.join(dirname, filename))\n",
    "\n",
    "# You can write up to 20GB to the current directory (/kaggle/working/) that gets preserved as output when you create a version using \"Save & Run All\" \n",
    "# You can also write temporary files to /kaggle/temp/, but they won't be saved outside of the current session"
   ]
  },
  {
   "cell_type": "code",
   "execution_count": 2,
   "id": "9f935073",
   "metadata": {
    "execution": {
     "iopub.execute_input": "2024-08-25T16:25:14.251453Z",
     "iopub.status.busy": "2024-08-25T16:25:14.250770Z",
     "iopub.status.idle": "2024-08-25T16:25:31.344043Z",
     "shell.execute_reply": "2024-08-25T16:25:31.342754Z"
    },
    "papermill": {
     "duration": 17.102934,
     "end_time": "2024-08-25T16:25:31.347137",
     "exception": false,
     "start_time": "2024-08-25T16:25:14.244203",
     "status": "completed"
    },
    "tags": []
   },
   "outputs": [],
   "source": [
    "import numpy as np\n",
    "import pandas as pd\n",
    "from tensorflow.keras.models import Sequential\n",
    "from tensorflow.keras.layers import Dense, Conv2D, MaxPooling2D, Flatten, Dropout, BatchNormalization\n",
    "from tensorflow.keras.utils import to_categorical\n",
    "from tensorflow.keras.optimizers import Adam\n",
    "from sklearn.model_selection import train_test_split\n",
    "from keras.callbacks import LearningRateScheduler\n",
    "from keras.callbacks import EarlyStopping"
   ]
  },
  {
   "cell_type": "code",
   "execution_count": 3,
   "id": "ca660ae4",
   "metadata": {
    "execution": {
     "iopub.execute_input": "2024-08-25T16:25:31.358903Z",
     "iopub.status.busy": "2024-08-25T16:25:31.358032Z",
     "iopub.status.idle": "2024-08-25T16:25:39.166955Z",
     "shell.execute_reply": "2024-08-25T16:25:39.165625Z"
    },
    "papermill": {
     "duration": 7.817927,
     "end_time": "2024-08-25T16:25:39.169900",
     "exception": false,
     "start_time": "2024-08-25T16:25:31.351973",
     "status": "completed"
    },
    "tags": []
   },
   "outputs": [],
   "source": [
    "# Load the data\n",
    "train_df = pd.read_csv('/kaggle/input/mnist-data/train.csv')\n",
    "test_df = pd.read_csv('/kaggle/input/mnist-data/test.csv')\n",
    "\n",
    "\n",
    "X_train = train_df.drop('label', axis=1).values\n",
    "y_train = train_df['label'].values\n",
    "X_test = test_df.values\n",
    "\n",
    "X_train = X_train.astype('float32') / 255.0\n",
    "X_test = X_test.astype('float32') / 255.0\n",
    "\n",
    "X_train = X_train.reshape(-1, 28, 28, 1)\n",
    "X_test = X_test.reshape(-1, 28, 28, 1)\n",
    "\n",
    "y_train = to_categorical(y_train, 10)\n",
    "X_train, X_val, y_train, y_val = train_test_split(X_train, y_train, test_size=0.2, random_state=42)\n"
   ]
  },
  {
   "cell_type": "code",
   "execution_count": 4,
   "id": "42404c0c",
   "metadata": {
    "execution": {
     "iopub.execute_input": "2024-08-25T16:25:39.181059Z",
     "iopub.status.busy": "2024-08-25T16:25:39.180558Z",
     "iopub.status.idle": "2024-08-25T16:25:39.633345Z",
     "shell.execute_reply": "2024-08-25T16:25:39.631911Z"
    },
    "papermill": {
     "duration": 0.462077,
     "end_time": "2024-08-25T16:25:39.636604",
     "exception": false,
     "start_time": "2024-08-25T16:25:39.174527",
     "status": "completed"
    },
    "tags": []
   },
   "outputs": [
    {
     "name": "stderr",
     "output_type": "stream",
     "text": [
      "/opt/conda/lib/python3.10/site-packages/keras/src/layers/convolutional/base_conv.py:107: UserWarning: Do not pass an `input_shape`/`input_dim` argument to a layer. When using Sequential models, prefer using an `Input(shape)` object as the first layer in the model instead.\n",
      "  super().__init__(activity_regularizer=activity_regularizer, **kwargs)\n"
     ]
    }
   ],
   "source": [
    "model = Sequential()\n",
    "\n",
    "model.add(Conv2D(filters=32, kernel_size=(3, 3), activation='relu', strides=1, padding='same', data_format='channels_last',\n",
    "                 input_shape=(28,28,1)))\n",
    "model.add(BatchNormalization())\n",
    "model.add(Conv2D(filters=32, kernel_size=(3, 3), activation='relu', strides=1, padding='same', data_format='channels_last'))\n",
    "model.add(BatchNormalization())\n",
    "model.add(MaxPooling2D(pool_size=(2, 2), strides=2, padding='valid' ))\n",
    "model.add(Dropout(0.25))\n",
    "\n",
    "model.add(Conv2D(filters=64, kernel_size=(3, 3), activation='relu', strides=1, padding='same', data_format='channels_last'))\n",
    "model.add(BatchNormalization())\n",
    "model.add(Conv2D(filters=64, kernel_size=(3, 3), strides=1, padding='same', activation='relu', data_format='channels_last'))\n",
    "model.add(BatchNormalization())\n",
    "model.add(MaxPooling2D(pool_size=(2, 2), padding='valid', strides=2))\n",
    "model.add(Dropout(0.25))\n",
    "\n",
    "model.add(Flatten())\n",
    "model.add(Dense(512, activation='relu'))\n",
    "model.add(BatchNormalization())\n",
    "model.add(Dropout(0.25))\n",
    "model.add(Dense(1024, activation='relu'))\n",
    "model.add(BatchNormalization())\n",
    "model.add(Dropout(0.5))\n",
    "model.add(Dense(10, activation='softmax'))"
   ]
  },
  {
   "cell_type": "code",
   "execution_count": 5,
   "id": "42edda26",
   "metadata": {
    "execution": {
     "iopub.execute_input": "2024-08-25T16:25:39.648456Z",
     "iopub.status.busy": "2024-08-25T16:25:39.647992Z",
     "iopub.status.idle": "2024-08-25T16:25:39.664199Z",
     "shell.execute_reply": "2024-08-25T16:25:39.663025Z"
    },
    "papermill": {
     "duration": 0.025689,
     "end_time": "2024-08-25T16:25:39.667314",
     "exception": false,
     "start_time": "2024-08-25T16:25:39.641625",
     "status": "completed"
    },
    "tags": []
   },
   "outputs": [],
   "source": [
    "model.compile(optimizer=Adam(learning_rate=0.001, beta_1=0.9, beta_2=0.999),\n",
    "              loss='categorical_crossentropy',\n",
    "              metrics=['accuracy'])"
   ]
  },
  {
   "cell_type": "code",
   "execution_count": 6,
   "id": "03114a18",
   "metadata": {
    "execution": {
     "iopub.execute_input": "2024-08-25T16:25:39.679437Z",
     "iopub.status.busy": "2024-08-25T16:25:39.678991Z",
     "iopub.status.idle": "2024-08-25T17:11:54.877385Z",
     "shell.execute_reply": "2024-08-25T17:11:54.875841Z"
    },
    "papermill": {
     "duration": 2775.208019,
     "end_time": "2024-08-25T17:11:54.880726",
     "exception": false,
     "start_time": "2024-08-25T16:25:39.672707",
     "status": "completed"
    },
    "tags": []
   },
   "outputs": [
    {
     "name": "stdout",
     "output_type": "stream",
     "text": [
      "Epoch 1/100\n",
      "\u001b[1m131/131\u001b[0m \u001b[32m━━━━━━━━━━━━━━━━━━━━\u001b[0m\u001b[37m\u001b[0m \u001b[1m37s\u001b[0m 247ms/step - accuracy: 0.7334 - loss: 0.9908 - val_accuracy: 0.1082 - val_loss: 7.9404 - learning_rate: 0.0010\n",
      "Epoch 2/100\n",
      "\u001b[1m131/131\u001b[0m \u001b[32m━━━━━━━━━━━━━━━━━━━━\u001b[0m\u001b[37m\u001b[0m \u001b[1m32s\u001b[0m 245ms/step - accuracy: 0.9415 - loss: 0.2109 - val_accuracy: 0.1082 - val_loss: 10.1545 - learning_rate: 9.0000e-04\n",
      "Epoch 3/100\n",
      "\u001b[1m131/131\u001b[0m \u001b[32m━━━━━━━━━━━━━━━━━━━━\u001b[0m\u001b[37m\u001b[0m \u001b[1m32s\u001b[0m 246ms/step - accuracy: 0.9562 - loss: 0.1452 - val_accuracy: 0.5360 - val_loss: 1.8185 - learning_rate: 8.1000e-04\n",
      "Epoch 4/100\n",
      "\u001b[1m131/131\u001b[0m \u001b[32m━━━━━━━━━━━━━━━━━━━━\u001b[0m\u001b[37m\u001b[0m \u001b[1m32s\u001b[0m 245ms/step - accuracy: 0.9682 - loss: 0.1231 - val_accuracy: 0.9543 - val_loss: 0.1521 - learning_rate: 7.2900e-04\n",
      "Epoch 5/100\n",
      "\u001b[1m  1/131\u001b[0m \u001b[37m━━━━━━━━━━━━━━━━━━━━\u001b[0m \u001b[1m24s\u001b[0m 191ms/step - accuracy: 0.9531 - loss: 0.1493"
     ]
    },
    {
     "name": "stderr",
     "output_type": "stream",
     "text": [
      "/opt/conda/lib/python3.10/contextlib.py:153: UserWarning: Your input ran out of data; interrupting training. Make sure that your dataset or generator can generate at least `steps_per_epoch * epochs` batches. You may need to use the `.repeat()` function when building your dataset.\n",
      "  self.gen.throw(typ, value, traceback)\n"
     ]
    },
    {
     "name": "stdout",
     "output_type": "stream",
     "text": [
      "\u001b[1m131/131\u001b[0m \u001b[32m━━━━━━━━━━━━━━━━━━━━\u001b[0m\u001b[37m\u001b[0m \u001b[1m6s\u001b[0m 42ms/step - accuracy: 0.4802 - loss: 0.0752 - val_accuracy: 0.9554 - val_loss: 0.1490 - learning_rate: 6.5610e-04\n",
      "Epoch 6/100\n",
      "\u001b[1m131/131\u001b[0m \u001b[32m━━━━━━━━━━━━━━━━━━━━\u001b[0m\u001b[37m\u001b[0m \u001b[1m32s\u001b[0m 243ms/step - accuracy: 0.9737 - loss: 0.0800 - val_accuracy: 0.9777 - val_loss: 0.0719 - learning_rate: 5.9049e-04\n",
      "Epoch 7/100\n",
      "\u001b[1m131/131\u001b[0m \u001b[32m━━━━━━━━━━━━━━━━━━━━\u001b[0m\u001b[37m\u001b[0m \u001b[1m32s\u001b[0m 243ms/step - accuracy: 0.9776 - loss: 0.0800 - val_accuracy: 0.9867 - val_loss: 0.0416 - learning_rate: 5.3144e-04\n",
      "Epoch 8/100\n",
      "\u001b[1m131/131\u001b[0m \u001b[32m━━━━━━━━━━━━━━━━━━━━\u001b[0m\u001b[37m\u001b[0m \u001b[1m32s\u001b[0m 245ms/step - accuracy: 0.9743 - loss: 0.0952 - val_accuracy: 0.9873 - val_loss: 0.0406 - learning_rate: 4.7830e-04\n",
      "Epoch 9/100\n",
      "\u001b[1m131/131\u001b[0m \u001b[32m━━━━━━━━━━━━━━━━━━━━\u001b[0m\u001b[37m\u001b[0m \u001b[1m32s\u001b[0m 244ms/step - accuracy: 0.9776 - loss: 0.0672 - val_accuracy: 0.9867 - val_loss: 0.0421 - learning_rate: 4.3047e-04\n",
      "Epoch 10/100\n",
      "\u001b[1m131/131\u001b[0m \u001b[32m━━━━━━━━━━━━━━━━━━━━\u001b[0m\u001b[37m\u001b[0m \u001b[1m6s\u001b[0m 42ms/step - accuracy: 0.4881 - loss: 0.0250 - val_accuracy: 0.9869 - val_loss: 0.0426 - learning_rate: 3.8742e-04\n",
      "Epoch 11/100\n",
      "\u001b[1m131/131\u001b[0m \u001b[32m━━━━━━━━━━━━━━━━━━━━\u001b[0m\u001b[37m\u001b[0m \u001b[1m40s\u001b[0m 243ms/step - accuracy: 0.9851 - loss: 0.0490 - val_accuracy: 0.9857 - val_loss: 0.0468 - learning_rate: 3.4868e-04\n",
      "Epoch 12/100\n",
      "\u001b[1m131/131\u001b[0m \u001b[32m━━━━━━━━━━━━━━━━━━━━\u001b[0m\u001b[37m\u001b[0m \u001b[1m32s\u001b[0m 245ms/step - accuracy: 0.9813 - loss: 0.0645 - val_accuracy: 0.9890 - val_loss: 0.0356 - learning_rate: 3.1381e-04\n",
      "Epoch 13/100\n",
      "\u001b[1m131/131\u001b[0m \u001b[32m━━━━━━━━━━━━━━━━━━━━\u001b[0m\u001b[37m\u001b[0m \u001b[1m32s\u001b[0m 247ms/step - accuracy: 0.9831 - loss: 0.0635 - val_accuracy: 0.9907 - val_loss: 0.0284 - learning_rate: 2.8243e-04\n",
      "Epoch 14/100\n",
      "\u001b[1m131/131\u001b[0m \u001b[32m━━━━━━━━━━━━━━━━━━━━\u001b[0m\u001b[37m\u001b[0m \u001b[1m33s\u001b[0m 249ms/step - accuracy: 0.9873 - loss: 0.0415 - val_accuracy: 0.9906 - val_loss: 0.0285 - learning_rate: 2.5419e-04\n",
      "Epoch 15/100\n",
      "\u001b[1m131/131\u001b[0m \u001b[32m━━━━━━━━━━━━━━━━━━━━\u001b[0m\u001b[37m\u001b[0m \u001b[1m6s\u001b[0m 42ms/step - accuracy: 0.5038 - loss: 0.0021 - val_accuracy: 0.9906 - val_loss: 0.0283 - learning_rate: 2.2877e-04\n",
      "Epoch 16/100\n",
      "\u001b[1m131/131\u001b[0m \u001b[32m━━━━━━━━━━━━━━━━━━━━\u001b[0m\u001b[37m\u001b[0m \u001b[1m32s\u001b[0m 245ms/step - accuracy: 0.9867 - loss: 0.0413 - val_accuracy: 0.9911 - val_loss: 0.0284 - learning_rate: 2.0589e-04\n",
      "Epoch 17/100\n",
      "\u001b[1m131/131\u001b[0m \u001b[32m━━━━━━━━━━━━━━━━━━━━\u001b[0m\u001b[37m\u001b[0m \u001b[1m32s\u001b[0m 244ms/step - accuracy: 0.9823 - loss: 0.0486 - val_accuracy: 0.9913 - val_loss: 0.0267 - learning_rate: 1.8530e-04\n",
      "Epoch 18/100\n",
      "\u001b[1m131/131\u001b[0m \u001b[32m━━━━━━━━━━━━━━━━━━━━\u001b[0m\u001b[37m\u001b[0m \u001b[1m32s\u001b[0m 243ms/step - accuracy: 0.9868 - loss: 0.0486 - val_accuracy: 0.9910 - val_loss: 0.0264 - learning_rate: 1.6677e-04\n",
      "Epoch 19/100\n",
      "\u001b[1m131/131\u001b[0m \u001b[32m━━━━━━━━━━━━━━━━━━━━\u001b[0m\u001b[37m\u001b[0m \u001b[1m32s\u001b[0m 244ms/step - accuracy: 0.9882 - loss: 0.0372 - val_accuracy: 0.9915 - val_loss: 0.0245 - learning_rate: 1.5009e-04\n",
      "Epoch 20/100\n",
      "\u001b[1m131/131\u001b[0m \u001b[32m━━━━━━━━━━━━━━━━━━━━\u001b[0m\u001b[37m\u001b[0m \u001b[1m6s\u001b[0m 42ms/step - accuracy: 0.4959 - loss: 0.0214 - val_accuracy: 0.9915 - val_loss: 0.0246 - learning_rate: 1.3509e-04\n",
      "Epoch 21/100\n",
      "\u001b[1m131/131\u001b[0m \u001b[32m━━━━━━━━━━━━━━━━━━━━\u001b[0m\u001b[37m\u001b[0m \u001b[1m41s\u001b[0m 246ms/step - accuracy: 0.9880 - loss: 0.0397 - val_accuracy: 0.9917 - val_loss: 0.0242 - learning_rate: 1.2158e-04\n",
      "Epoch 22/100\n",
      "\u001b[1m131/131\u001b[0m \u001b[32m━━━━━━━━━━━━━━━━━━━━\u001b[0m\u001b[37m\u001b[0m \u001b[1m32s\u001b[0m 248ms/step - accuracy: 0.9910 - loss: 0.0308 - val_accuracy: 0.9929 - val_loss: 0.0212 - learning_rate: 1.0942e-04\n",
      "Epoch 23/100\n",
      "\u001b[1m131/131\u001b[0m \u001b[32m━━━━━━━━━━━━━━━━━━━━\u001b[0m\u001b[37m\u001b[0m \u001b[1m32s\u001b[0m 247ms/step - accuracy: 0.9869 - loss: 0.0395 - val_accuracy: 0.9917 - val_loss: 0.0223 - learning_rate: 9.8477e-05\n",
      "Epoch 24/100\n",
      "\u001b[1m131/131\u001b[0m \u001b[32m━━━━━━━━━━━━━━━━━━━━\u001b[0m\u001b[37m\u001b[0m \u001b[1m32s\u001b[0m 245ms/step - accuracy: 0.9855 - loss: 0.0479 - val_accuracy: 0.9926 - val_loss: 0.0202 - learning_rate: 8.8629e-05\n",
      "Epoch 25/100\n",
      "\u001b[1m131/131\u001b[0m \u001b[32m━━━━━━━━━━━━━━━━━━━━\u001b[0m\u001b[37m\u001b[0m \u001b[1m6s\u001b[0m 42ms/step - accuracy: 0.5038 - loss: 0.0086 - val_accuracy: 0.9926 - val_loss: 0.0202 - learning_rate: 7.9766e-05\n",
      "Epoch 26/100\n",
      "\u001b[1m131/131\u001b[0m \u001b[32m━━━━━━━━━━━━━━━━━━━━\u001b[0m\u001b[37m\u001b[0m \u001b[1m32s\u001b[0m 243ms/step - accuracy: 0.9916 - loss: 0.0284 - val_accuracy: 0.9920 - val_loss: 0.0207 - learning_rate: 7.1790e-05\n",
      "Epoch 27/100\n",
      "\u001b[1m131/131\u001b[0m \u001b[32m━━━━━━━━━━━━━━━━━━━━\u001b[0m\u001b[37m\u001b[0m \u001b[1m32s\u001b[0m 245ms/step - accuracy: 0.9905 - loss: 0.0260 - val_accuracy: 0.9927 - val_loss: 0.0208 - learning_rate: 6.4611e-05\n",
      "Epoch 28/100\n",
      "\u001b[1m131/131\u001b[0m \u001b[32m━━━━━━━━━━━━━━━━━━━━\u001b[0m\u001b[37m\u001b[0m \u001b[1m32s\u001b[0m 247ms/step - accuracy: 0.9921 - loss: 0.0247 - val_accuracy: 0.9931 - val_loss: 0.0211 - learning_rate: 5.8150e-05\n",
      "Epoch 29/100\n",
      "\u001b[1m131/131\u001b[0m \u001b[32m━━━━━━━━━━━━━━━━━━━━\u001b[0m\u001b[37m\u001b[0m \u001b[1m33s\u001b[0m 249ms/step - accuracy: 0.9906 - loss: 0.0262 - val_accuracy: 0.9927 - val_loss: 0.0202 - learning_rate: 5.2335e-05\n",
      "Epoch 30/100\n",
      "\u001b[1m131/131\u001b[0m \u001b[32m━━━━━━━━━━━━━━━━━━━━\u001b[0m\u001b[37m\u001b[0m \u001b[1m6s\u001b[0m 45ms/step - accuracy: 0.5038 - loss: 0.0025 - val_accuracy: 0.9927 - val_loss: 0.0202 - learning_rate: 4.7101e-05\n",
      "Epoch 31/100\n",
      "\u001b[1m131/131\u001b[0m \u001b[32m━━━━━━━━━━━━━━━━━━━━\u001b[0m\u001b[37m\u001b[0m \u001b[1m33s\u001b[0m 250ms/step - accuracy: 0.9924 - loss: 0.0235 - val_accuracy: 0.9925 - val_loss: 0.0201 - learning_rate: 4.2391e-05\n",
      "Epoch 32/100\n",
      "\u001b[1m131/131\u001b[0m \u001b[32m━━━━━━━━━━━━━━━━━━━━\u001b[0m\u001b[37m\u001b[0m \u001b[1m33s\u001b[0m 249ms/step - accuracy: 0.9916 - loss: 0.0234 - val_accuracy: 0.9929 - val_loss: 0.0195 - learning_rate: 3.8152e-05\n",
      "Epoch 33/100\n",
      "\u001b[1m131/131\u001b[0m \u001b[32m━━━━━━━━━━━━━━━━━━━━\u001b[0m\u001b[37m\u001b[0m \u001b[1m32s\u001b[0m 248ms/step - accuracy: 0.9894 - loss: 0.0345 - val_accuracy: 0.9939 - val_loss: 0.0183 - learning_rate: 3.4337e-05\n",
      "Epoch 34/100\n",
      "\u001b[1m131/131\u001b[0m \u001b[32m━━━━━━━━━━━━━━━━━━━━\u001b[0m\u001b[37m\u001b[0m \u001b[1m32s\u001b[0m 247ms/step - accuracy: 0.9930 - loss: 0.0238 - val_accuracy: 0.9939 - val_loss: 0.0192 - learning_rate: 3.0903e-05\n",
      "Epoch 35/100\n",
      "\u001b[1m131/131\u001b[0m \u001b[32m━━━━━━━━━━━━━━━━━━━━\u001b[0m\u001b[37m\u001b[0m \u001b[1m6s\u001b[0m 42ms/step - accuracy: 0.4959 - loss: 0.0330 - val_accuracy: 0.9939 - val_loss: 0.0192 - learning_rate: 2.7813e-05\n",
      "Epoch 36/100\n",
      "\u001b[1m131/131\u001b[0m \u001b[32m━━━━━━━━━━━━━━━━━━━━\u001b[0m\u001b[37m\u001b[0m \u001b[1m32s\u001b[0m 248ms/step - accuracy: 0.9926 - loss: 0.0230 - val_accuracy: 0.9937 - val_loss: 0.0188 - learning_rate: 2.5032e-05\n",
      "Epoch 37/100\n",
      "\u001b[1m131/131\u001b[0m \u001b[32m━━━━━━━━━━━━━━━━━━━━\u001b[0m\u001b[37m\u001b[0m \u001b[1m32s\u001b[0m 245ms/step - accuracy: 0.9919 - loss: 0.0245 - val_accuracy: 0.9937 - val_loss: 0.0189 - learning_rate: 2.2528e-05\n",
      "Epoch 38/100\n",
      "\u001b[1m131/131\u001b[0m \u001b[32m━━━━━━━━━━━━━━━━━━━━\u001b[0m\u001b[37m\u001b[0m \u001b[1m32s\u001b[0m 245ms/step - accuracy: 0.9898 - loss: 0.0306 - val_accuracy: 0.9939 - val_loss: 0.0185 - learning_rate: 2.0276e-05\n",
      "Epoch 39/100\n",
      "\u001b[1m131/131\u001b[0m \u001b[32m━━━━━━━━━━━━━━━━━━━━\u001b[0m\u001b[37m\u001b[0m \u001b[1m32s\u001b[0m 246ms/step - accuracy: 0.9919 - loss: 0.0249 - val_accuracy: 0.9936 - val_loss: 0.0182 - learning_rate: 1.8248e-05\n",
      "Epoch 40/100\n",
      "\u001b[1m131/131\u001b[0m \u001b[32m━━━━━━━━━━━━━━━━━━━━\u001b[0m\u001b[37m\u001b[0m \u001b[1m6s\u001b[0m 42ms/step - accuracy: 0.4959 - loss: 0.0101 - val_accuracy: 0.9936 - val_loss: 0.0182 - learning_rate: 1.6423e-05\n",
      "Epoch 41/100\n",
      "\u001b[1m131/131\u001b[0m \u001b[32m━━━━━━━━━━━━━━━━━━━━\u001b[0m\u001b[37m\u001b[0m \u001b[1m40s\u001b[0m 245ms/step - accuracy: 0.9915 - loss: 0.0232 - val_accuracy: 0.9938 - val_loss: 0.0182 - learning_rate: 1.4781e-05\n",
      "Epoch 42/100\n",
      "\u001b[1m131/131\u001b[0m \u001b[32m━━━━━━━━━━━━━━━━━━━━\u001b[0m\u001b[37m\u001b[0m \u001b[1m32s\u001b[0m 247ms/step - accuracy: 0.9950 - loss: 0.0177 - val_accuracy: 0.9940 - val_loss: 0.0182 - learning_rate: 1.3303e-05\n",
      "Epoch 43/100\n",
      "\u001b[1m131/131\u001b[0m \u001b[32m━━━━━━━━━━━━━━━━━━━━\u001b[0m\u001b[37m\u001b[0m \u001b[1m32s\u001b[0m 245ms/step - accuracy: 0.9911 - loss: 0.0302 - val_accuracy: 0.9938 - val_loss: 0.0183 - learning_rate: 1.1973e-05\n",
      "Epoch 44/100\n",
      "\u001b[1m131/131\u001b[0m \u001b[32m━━━━━━━━━━━━━━━━━━━━\u001b[0m\u001b[37m\u001b[0m \u001b[1m32s\u001b[0m 244ms/step - accuracy: 0.9907 - loss: 0.0238 - val_accuracy: 0.9936 - val_loss: 0.0183 - learning_rate: 1.0775e-05\n",
      "Epoch 45/100\n",
      "\u001b[1m131/131\u001b[0m \u001b[32m━━━━━━━━━━━━━━━━━━━━\u001b[0m\u001b[37m\u001b[0m \u001b[1m6s\u001b[0m 43ms/step - accuracy: 0.4959 - loss: 0.0202 - val_accuracy: 0.9936 - val_loss: 0.0184 - learning_rate: 9.6977e-06\n",
      "Epoch 46/100\n",
      "\u001b[1m131/131\u001b[0m \u001b[32m━━━━━━━━━━━━━━━━━━━━\u001b[0m\u001b[37m\u001b[0m \u001b[1m40s\u001b[0m 245ms/step - accuracy: 0.9929 - loss: 0.0214 - val_accuracy: 0.9937 - val_loss: 0.0184 - learning_rate: 8.7280e-06\n",
      "Epoch 47/100\n",
      "\u001b[1m131/131\u001b[0m \u001b[32m━━━━━━━━━━━━━━━━━━━━\u001b[0m\u001b[37m\u001b[0m \u001b[1m32s\u001b[0m 245ms/step - accuracy: 0.9942 - loss: 0.0210 - val_accuracy: 0.9939 - val_loss: 0.0181 - learning_rate: 7.8552e-06\n",
      "Epoch 48/100\n",
      "\u001b[1m131/131\u001b[0m \u001b[32m━━━━━━━━━━━━━━━━━━━━\u001b[0m\u001b[37m\u001b[0m \u001b[1m32s\u001b[0m 244ms/step - accuracy: 0.9932 - loss: 0.0217 - val_accuracy: 0.9939 - val_loss: 0.0181 - learning_rate: 7.0697e-06\n",
      "Epoch 49/100\n",
      "\u001b[1m131/131\u001b[0m \u001b[32m━━━━━━━━━━━━━━━━━━━━\u001b[0m\u001b[37m\u001b[0m \u001b[1m32s\u001b[0m 244ms/step - accuracy: 0.9929 - loss: 0.0272 - val_accuracy: 0.9939 - val_loss: 0.0182 - learning_rate: 6.3627e-06\n",
      "Epoch 50/100\n",
      "\u001b[1m131/131\u001b[0m \u001b[32m━━━━━━━━━━━━━━━━━━━━\u001b[0m\u001b[37m\u001b[0m \u001b[1m6s\u001b[0m 42ms/step - accuracy: 0.5038 - loss: 0.0032 - val_accuracy: 0.9938 - val_loss: 0.0182 - learning_rate: 5.7264e-06\n",
      "Epoch 51/100\n",
      "\u001b[1m131/131\u001b[0m \u001b[32m━━━━━━━━━━━━━━━━━━━━\u001b[0m\u001b[37m\u001b[0m \u001b[1m40s\u001b[0m 245ms/step - accuracy: 0.9894 - loss: 0.0288 - val_accuracy: 0.9936 - val_loss: 0.0185 - learning_rate: 5.1538e-06\n",
      "Epoch 52/100\n",
      "\u001b[1m131/131\u001b[0m \u001b[32m━━━━━━━━━━━━━━━━━━━━\u001b[0m\u001b[37m\u001b[0m \u001b[1m32s\u001b[0m 245ms/step - accuracy: 0.9904 - loss: 0.0273 - val_accuracy: 0.9938 - val_loss: 0.0184 - learning_rate: 4.6384e-06\n",
      "Epoch 53/100\n",
      "\u001b[1m131/131\u001b[0m \u001b[32m━━━━━━━━━━━━━━━━━━━━\u001b[0m\u001b[37m\u001b[0m \u001b[1m32s\u001b[0m 246ms/step - accuracy: 0.9933 - loss: 0.0238 - val_accuracy: 0.9939 - val_loss: 0.0185 - learning_rate: 4.1746e-06\n",
      "Epoch 54/100\n",
      "\u001b[1m131/131\u001b[0m \u001b[32m━━━━━━━━━━━━━━━━━━━━\u001b[0m\u001b[37m\u001b[0m \u001b[1m32s\u001b[0m 247ms/step - accuracy: 0.9927 - loss: 0.0232 - val_accuracy: 0.9939 - val_loss: 0.0182 - learning_rate: 3.7571e-06\n",
      "Epoch 55/100\n",
      "\u001b[1m131/131\u001b[0m \u001b[32m━━━━━━━━━━━━━━━━━━━━\u001b[0m\u001b[37m\u001b[0m \u001b[1m6s\u001b[0m 42ms/step - accuracy: 0.5038 - loss: 5.7650e-04 - val_accuracy: 0.9939 - val_loss: 0.0182 - learning_rate: 3.3814e-06\n",
      "Epoch 56/100\n",
      "\u001b[1m131/131\u001b[0m \u001b[32m━━━━━━━━━━━━━━━━━━━━\u001b[0m\u001b[37m\u001b[0m \u001b[1m32s\u001b[0m 246ms/step - accuracy: 0.9948 - loss: 0.0205 - val_accuracy: 0.9937 - val_loss: 0.0184 - learning_rate: 3.0433e-06\n",
      "Epoch 57/100\n",
      "\u001b[1m131/131\u001b[0m \u001b[32m━━━━━━━━━━━━━━━━━━━━\u001b[0m\u001b[37m\u001b[0m \u001b[1m32s\u001b[0m 245ms/step - accuracy: 0.9929 - loss: 0.0229 - val_accuracy: 0.9939 - val_loss: 0.0185 - learning_rate: 2.7389e-06\n",
      "Epoch 58/100\n",
      "\u001b[1m131/131\u001b[0m \u001b[32m━━━━━━━━━━━━━━━━━━━━\u001b[0m\u001b[37m\u001b[0m \u001b[1m32s\u001b[0m 246ms/step - accuracy: 0.9917 - loss: 0.0239 - val_accuracy: 0.9939 - val_loss: 0.0183 - learning_rate: 2.4650e-06\n",
      "Epoch 59/100\n",
      "\u001b[1m131/131\u001b[0m \u001b[32m━━━━━━━━━━━━━━━━━━━━\u001b[0m\u001b[37m\u001b[0m \u001b[1m32s\u001b[0m 247ms/step - accuracy: 0.9941 - loss: 0.0169 - val_accuracy: 0.9936 - val_loss: 0.0183 - learning_rate: 2.2185e-06\n",
      "Epoch 60/100\n",
      "\u001b[1m131/131\u001b[0m \u001b[32m━━━━━━━━━━━━━━━━━━━━\u001b[0m\u001b[37m\u001b[0m \u001b[1m6s\u001b[0m 47ms/step - accuracy: 0.5038 - loss: 2.3276e-04 - val_accuracy: 0.9936 - val_loss: 0.0183 - learning_rate: 1.9967e-06\n",
      "Epoch 61/100\n",
      "\u001b[1m131/131\u001b[0m \u001b[32m━━━━━━━━━━━━━━━━━━━━\u001b[0m\u001b[37m\u001b[0m \u001b[1m33s\u001b[0m 248ms/step - accuracy: 0.9933 - loss: 0.0209 - val_accuracy: 0.9936 - val_loss: 0.0183 - learning_rate: 1.7970e-06\n",
      "Epoch 62/100\n",
      "\u001b[1m131/131\u001b[0m \u001b[32m━━━━━━━━━━━━━━━━━━━━\u001b[0m\u001b[37m\u001b[0m \u001b[1m32s\u001b[0m 247ms/step - accuracy: 0.9917 - loss: 0.0247 - val_accuracy: 0.9938 - val_loss: 0.0183 - learning_rate: 1.6173e-06\n",
      "Epoch 63/100\n",
      "\u001b[1m131/131\u001b[0m \u001b[32m━━━━━━━━━━━━━━━━━━━━\u001b[0m\u001b[37m\u001b[0m \u001b[1m32s\u001b[0m 247ms/step - accuracy: 0.9918 - loss: 0.0225 - val_accuracy: 0.9938 - val_loss: 0.0182 - learning_rate: 1.4556e-06\n",
      "Epoch 64/100\n",
      "\u001b[1m131/131\u001b[0m \u001b[32m━━━━━━━━━━━━━━━━━━━━\u001b[0m\u001b[37m\u001b[0m \u001b[1m33s\u001b[0m 250ms/step - accuracy: 0.9941 - loss: 0.0195 - val_accuracy: 0.9937 - val_loss: 0.0184 - learning_rate: 1.3100e-06\n",
      "Epoch 65/100\n",
      "\u001b[1m131/131\u001b[0m \u001b[32m━━━━━━━━━━━━━━━━━━━━\u001b[0m\u001b[37m\u001b[0m \u001b[1m6s\u001b[0m 43ms/step - accuracy: 0.5038 - loss: 0.0041 - val_accuracy: 0.9937 - val_loss: 0.0184 - learning_rate: 1.1790e-06\n",
      "Epoch 66/100\n",
      "\u001b[1m131/131\u001b[0m \u001b[32m━━━━━━━━━━━━━━━━━━━━\u001b[0m\u001b[37m\u001b[0m \u001b[1m32s\u001b[0m 248ms/step - accuracy: 0.9884 - loss: 0.0271 - val_accuracy: 0.9937 - val_loss: 0.0184 - learning_rate: 1.0611e-06\n",
      "Epoch 67/100\n",
      "\u001b[1m131/131\u001b[0m \u001b[32m━━━━━━━━━━━━━━━━━━━━\u001b[0m\u001b[37m\u001b[0m \u001b[1m33s\u001b[0m 253ms/step - accuracy: 0.9937 - loss: 0.0232 - val_accuracy: 0.9939 - val_loss: 0.0183 - learning_rate: 9.5500e-07\n",
      "Epoch 68/100\n",
      "\u001b[1m131/131\u001b[0m \u001b[32m━━━━━━━━━━━━━━━━━━━━\u001b[0m\u001b[37m\u001b[0m \u001b[1m34s\u001b[0m 258ms/step - accuracy: 0.9950 - loss: 0.0171 - val_accuracy: 0.9938 - val_loss: 0.0183 - learning_rate: 8.5950e-07\n",
      "Epoch 69/100\n",
      "\u001b[1m131/131\u001b[0m \u001b[32m━━━━━━━━━━━━━━━━━━━━\u001b[0m\u001b[37m\u001b[0m \u001b[1m34s\u001b[0m 260ms/step - accuracy: 0.9937 - loss: 0.0207 - val_accuracy: 0.9938 - val_loss: 0.0184 - learning_rate: 7.7355e-07\n",
      "Epoch 70/100\n",
      "\u001b[1m131/131\u001b[0m \u001b[32m━━━━━━━━━━━━━━━━━━━━\u001b[0m\u001b[37m\u001b[0m \u001b[1m6s\u001b[0m 44ms/step - accuracy: 0.4959 - loss: 0.0093 - val_accuracy: 0.9938 - val_loss: 0.0183 - learning_rate: 6.9620e-07\n",
      "Epoch 71/100\n",
      "\u001b[1m131/131\u001b[0m \u001b[32m━━━━━━━━━━━━━━━━━━━━\u001b[0m\u001b[37m\u001b[0m \u001b[1m36s\u001b[0m 258ms/step - accuracy: 0.9917 - loss: 0.0242 - val_accuracy: 0.9939 - val_loss: 0.0184 - learning_rate: 6.2658e-07\n",
      "Epoch 72/100\n",
      "\u001b[1m131/131\u001b[0m \u001b[32m━━━━━━━━━━━━━━━━━━━━\u001b[0m\u001b[37m\u001b[0m \u001b[1m33s\u001b[0m 254ms/step - accuracy: 0.9913 - loss: 0.0215 - val_accuracy: 0.9939 - val_loss: 0.0183 - learning_rate: 5.6392e-07\n",
      "Epoch 73/100\n",
      "\u001b[1m131/131\u001b[0m \u001b[32m━━━━━━━━━━━━━━━━━━━━\u001b[0m\u001b[37m\u001b[0m \u001b[1m33s\u001b[0m 255ms/step - accuracy: 0.9929 - loss: 0.0186 - val_accuracy: 0.9939 - val_loss: 0.0182 - learning_rate: 5.0753e-07\n",
      "Epoch 74/100\n",
      "\u001b[1m131/131\u001b[0m \u001b[32m━━━━━━━━━━━━━━━━━━━━\u001b[0m\u001b[37m\u001b[0m \u001b[1m34s\u001b[0m 260ms/step - accuracy: 0.9919 - loss: 0.0291 - val_accuracy: 0.9938 - val_loss: 0.0183 - learning_rate: 4.5678e-07\n",
      "Epoch 75/100\n",
      "\u001b[1m131/131\u001b[0m \u001b[32m━━━━━━━━━━━━━━━━━━━━\u001b[0m\u001b[37m\u001b[0m \u001b[1m7s\u001b[0m 49ms/step - accuracy: 0.4959 - loss: 0.0123 - val_accuracy: 0.9938 - val_loss: 0.0183 - learning_rate: 4.1110e-07\n",
      "Epoch 76/100\n",
      "\u001b[1m131/131\u001b[0m \u001b[32m━━━━━━━━━━━━━━━━━━━━\u001b[0m\u001b[37m\u001b[0m \u001b[1m34s\u001b[0m 262ms/step - accuracy: 0.9894 - loss: 0.0311 - val_accuracy: 0.9938 - val_loss: 0.0183 - learning_rate: 3.6999e-07\n",
      "Epoch 77/100\n",
      "\u001b[1m131/131\u001b[0m \u001b[32m━━━━━━━━━━━━━━━━━━━━\u001b[0m\u001b[37m\u001b[0m \u001b[1m34s\u001b[0m 257ms/step - accuracy: 0.9925 - loss: 0.0247 - val_accuracy: 0.9938 - val_loss: 0.0183 - learning_rate: 3.3299e-07\n",
      "Epoch 78/100\n",
      "\u001b[1m131/131\u001b[0m \u001b[32m━━━━━━━━━━━━━━━━━━━━\u001b[0m\u001b[37m\u001b[0m \u001b[1m33s\u001b[0m 255ms/step - accuracy: 0.9940 - loss: 0.0188 - val_accuracy: 0.9938 - val_loss: 0.0182 - learning_rate: 2.9969e-07\n",
      "Epoch 79/100\n",
      "\u001b[1m131/131\u001b[0m \u001b[32m━━━━━━━━━━━━━━━━━━━━\u001b[0m\u001b[37m\u001b[0m \u001b[1m33s\u001b[0m 254ms/step - accuracy: 0.9910 - loss: 0.0289 - val_accuracy: 0.9939 - val_loss: 0.0182 - learning_rate: 2.6972e-07\n",
      "Epoch 80/100\n",
      "\u001b[1m131/131\u001b[0m \u001b[32m━━━━━━━━━━━━━━━━━━━━\u001b[0m\u001b[37m\u001b[0m \u001b[1m6s\u001b[0m 42ms/step - accuracy: 0.4959 - loss: 0.0146 - val_accuracy: 0.9940 - val_loss: 0.0181 - learning_rate: 2.4275e-07\n",
      "Epoch 81/100\n",
      "\u001b[1m131/131\u001b[0m \u001b[32m━━━━━━━━━━━━━━━━━━━━\u001b[0m\u001b[37m\u001b[0m \u001b[1m33s\u001b[0m 255ms/step - accuracy: 0.9941 - loss: 0.0190 - val_accuracy: 0.9937 - val_loss: 0.0182 - learning_rate: 2.1847e-07\n",
      "Epoch 82/100\n",
      "\u001b[1m131/131\u001b[0m \u001b[32m━━━━━━━━━━━━━━━━━━━━\u001b[0m\u001b[37m\u001b[0m \u001b[1m33s\u001b[0m 254ms/step - accuracy: 0.9931 - loss: 0.0230 - val_accuracy: 0.9938 - val_loss: 0.0183 - learning_rate: 1.9663e-07\n",
      "Epoch 83/100\n",
      "\u001b[1m131/131\u001b[0m \u001b[32m━━━━━━━━━━━━━━━━━━━━\u001b[0m\u001b[37m\u001b[0m \u001b[1m33s\u001b[0m 254ms/step - accuracy: 0.9928 - loss: 0.0235 - val_accuracy: 0.9938 - val_loss: 0.0182 - learning_rate: 1.7696e-07\n",
      "Epoch 84/100\n",
      "\u001b[1m131/131\u001b[0m \u001b[32m━━━━━━━━━━━━━━━━━━━━\u001b[0m\u001b[37m\u001b[0m \u001b[1m33s\u001b[0m 255ms/step - accuracy: 0.9904 - loss: 0.0248 - val_accuracy: 0.9939 - val_loss: 0.0181 - learning_rate: 1.5927e-07\n",
      "Epoch 85/100\n",
      "\u001b[1m131/131\u001b[0m \u001b[32m━━━━━━━━━━━━━━━━━━━━\u001b[0m\u001b[37m\u001b[0m \u001b[1m6s\u001b[0m 42ms/step - accuracy: 0.5038 - loss: 0.0060 - val_accuracy: 0.9938 - val_loss: 0.0181 - learning_rate: 1.4334e-07\n",
      "Epoch 86/100\n",
      "\u001b[1m131/131\u001b[0m \u001b[32m━━━━━━━━━━━━━━━━━━━━\u001b[0m\u001b[37m\u001b[0m \u001b[1m33s\u001b[0m 251ms/step - accuracy: 0.9956 - loss: 0.0144 - val_accuracy: 0.9937 - val_loss: 0.0182 - learning_rate: 1.2901e-07\n",
      "Epoch 87/100\n",
      "\u001b[1m131/131\u001b[0m \u001b[32m━━━━━━━━━━━━━━━━━━━━\u001b[0m\u001b[37m\u001b[0m \u001b[1m33s\u001b[0m 253ms/step - accuracy: 0.9907 - loss: 0.0270 - val_accuracy: 0.9938 - val_loss: 0.0182 - learning_rate: 1.1611e-07\n",
      "Epoch 88/100\n",
      "\u001b[1m131/131\u001b[0m \u001b[32m━━━━━━━━━━━━━━━━━━━━\u001b[0m\u001b[37m\u001b[0m \u001b[1m33s\u001b[0m 251ms/step - accuracy: 0.9919 - loss: 0.0242 - val_accuracy: 0.9939 - val_loss: 0.0183 - learning_rate: 1.0450e-07\n",
      "Epoch 89/100\n",
      "\u001b[1m131/131\u001b[0m \u001b[32m━━━━━━━━━━━━━━━━━━━━\u001b[0m\u001b[37m\u001b[0m \u001b[1m33s\u001b[0m 250ms/step - accuracy: 0.9951 - loss: 0.0164 - val_accuracy: 0.9940 - val_loss: 0.0182 - learning_rate: 9.4046e-08\n",
      "Epoch 90/100\n",
      "\u001b[1m131/131\u001b[0m \u001b[32m━━━━━━━━━━━━━━━━━━━━\u001b[0m\u001b[37m\u001b[0m \u001b[1m7s\u001b[0m 49ms/step - accuracy: 0.4959 - loss: 0.0133 - val_accuracy: 0.9939 - val_loss: 0.0183 - learning_rate: 8.4641e-08\n",
      "Epoch 91/100\n",
      "\u001b[1m131/131\u001b[0m \u001b[32m━━━━━━━━━━━━━━━━━━━━\u001b[0m\u001b[37m\u001b[0m \u001b[1m33s\u001b[0m 252ms/step - accuracy: 0.9937 - loss: 0.0205 - val_accuracy: 0.9939 - val_loss: 0.0181 - learning_rate: 7.6177e-08\n",
      "Epoch 92/100\n",
      "\u001b[1m131/131\u001b[0m \u001b[32m━━━━━━━━━━━━━━━━━━━━\u001b[0m\u001b[37m\u001b[0m \u001b[1m33s\u001b[0m 254ms/step - accuracy: 0.9930 - loss: 0.0237 - val_accuracy: 0.9940 - val_loss: 0.0182 - learning_rate: 6.8560e-08\n",
      "Epoch 93/100\n",
      "\u001b[1m131/131\u001b[0m \u001b[32m━━━━━━━━━━━━━━━━━━━━\u001b[0m\u001b[37m\u001b[0m \u001b[1m33s\u001b[0m 252ms/step - accuracy: 0.9917 - loss: 0.0194 - val_accuracy: 0.9937 - val_loss: 0.0183 - learning_rate: 6.1704e-08\n",
      "Epoch 94/100\n",
      "\u001b[1m131/131\u001b[0m \u001b[32m━━━━━━━━━━━━━━━━━━━━\u001b[0m\u001b[37m\u001b[0m \u001b[1m33s\u001b[0m 252ms/step - accuracy: 0.9923 - loss: 0.0234 - val_accuracy: 0.9938 - val_loss: 0.0183 - learning_rate: 5.5533e-08\n",
      "Epoch 95/100\n",
      "\u001b[1m131/131\u001b[0m \u001b[32m━━━━━━━━━━━━━━━━━━━━\u001b[0m\u001b[37m\u001b[0m \u001b[1m6s\u001b[0m 43ms/step - accuracy: 0.4881 - loss: 0.0204 - val_accuracy: 0.9938 - val_loss: 0.0183 - learning_rate: 4.9980e-08\n",
      "Epoch 96/100\n",
      "\u001b[1m131/131\u001b[0m \u001b[32m━━━━━━━━━━━━━━━━━━━━\u001b[0m\u001b[37m\u001b[0m \u001b[1m33s\u001b[0m 252ms/step - accuracy: 0.9928 - loss: 0.0246 - val_accuracy: 0.9938 - val_loss: 0.0184 - learning_rate: 4.4982e-08\n",
      "Epoch 97/100\n",
      "\u001b[1m131/131\u001b[0m \u001b[32m━━━━━━━━━━━━━━━━━━━━\u001b[0m\u001b[37m\u001b[0m \u001b[1m33s\u001b[0m 255ms/step - accuracy: 0.9926 - loss: 0.0220 - val_accuracy: 0.9939 - val_loss: 0.0182 - learning_rate: 4.0484e-08\n",
      "Epoch 98/100\n",
      "\u001b[1m131/131\u001b[0m \u001b[32m━━━━━━━━━━━━━━━━━━━━\u001b[0m\u001b[37m\u001b[0m \u001b[1m33s\u001b[0m 252ms/step - accuracy: 0.9936 - loss: 0.0190 - val_accuracy: 0.9938 - val_loss: 0.0182 - learning_rate: 3.6435e-08\n",
      "Epoch 99/100\n",
      "\u001b[1m131/131\u001b[0m \u001b[32m━━━━━━━━━━━━━━━━━━━━\u001b[0m\u001b[37m\u001b[0m \u001b[1m33s\u001b[0m 252ms/step - accuracy: 0.9914 - loss: 0.0229 - val_accuracy: 0.9938 - val_loss: 0.0182 - learning_rate: 3.2792e-08\n",
      "Epoch 100/100\n",
      "\u001b[1m131/131\u001b[0m \u001b[32m━━━━━━━━━━━━━━━━━━━━\u001b[0m\u001b[37m\u001b[0m \u001b[1m6s\u001b[0m 43ms/step - accuracy: 0.5038 - loss: 0.0011 - val_accuracy: 0.9937 - val_loss: 0.0182 - learning_rate: 2.9513e-08\n"
     ]
    }
   ],
   "source": [
    "reduce_lr = LearningRateScheduler(lambda x: 1e-3 * 0.9 ** x)\n",
    "history = model.fit(X_train, y_train, epochs=100, batch_size=64, validation_data=(X_val, y_val), steps_per_epoch=X_val.shape[0] // 64,\n",
    "                              callbacks = [reduce_lr])\n"
   ]
  },
  {
   "cell_type": "code",
   "execution_count": 7,
   "id": "3fec1ff1",
   "metadata": {
    "execution": {
     "iopub.execute_input": "2024-08-25T17:11:57.049247Z",
     "iopub.status.busy": "2024-08-25T17:11:57.048670Z",
     "iopub.status.idle": "2024-08-25T17:11:57.658601Z",
     "shell.execute_reply": "2024-08-25T17:11:57.657005Z"
    },
    "papermill": {
     "duration": 1.718685,
     "end_time": "2024-08-25T17:11:57.661581",
     "exception": false,
     "start_time": "2024-08-25T17:11:55.942896",
     "status": "completed"
    },
    "tags": []
   },
   "outputs": [
    {
     "data": {
      "image/png": "[encoded data removed]",
      "text/plain": [
       "<Figure size 1200x500 with 2 Axes>"
      ]
     },
     "metadata": {},
     "output_type": "display_data"
    }
   ],
   "source": [
    "import matplotlib.pyplot as plt\n",
    "\n",
    "plt.figure(figsize=(12, 5))\n",
    "\n",
    "plt.subplot(1, 2, 1)\n",
    "plt.plot(history.history['accuracy'])\n",
    "plt.plot(history.history['val_accuracy'])\n",
    "plt.title('Model accuracy')\n",
    "plt.xlabel('Epoch')\n",
    "plt.ylabel('Accuracy')\n",
    "plt.legend(['Train', 'Validation'], loc='upper left')\n",
    "\n",
    "# Plot training & validation loss values\n",
    "plt.subplot(1, 2, 2)\n",
    "plt.plot(history.history['loss'])\n",
    "plt.plot(history.history['val_loss'])\n",
    "plt.title('Model loss')\n",
    "plt.xlabel('Epoch')\n",
    "plt.ylabel('Loss')\n",
    "plt.legend(['Train', 'Validation'], loc='upper left')\n",
    "\n",
    "plt.tight_layout()\n",
    "plt.show()"
   ]
  },
  {
   "cell_type": "code",
   "execution_count": 8,
   "id": "525931a4",
   "metadata": {
    "execution": {
     "iopub.execute_input": "2024-08-25T17:11:59.856735Z",
     "iopub.status.busy": "2024-08-25T17:11:59.855503Z",
     "iopub.status.idle": "2024-08-25T17:12:23.498116Z",
     "shell.execute_reply": "2024-08-25T17:12:23.496554Z"
    },
    "papermill": {
     "duration": 24.780142,
     "end_time": "2024-08-25T17:12:23.501221",
     "exception": false,
     "start_time": "2024-08-25T17:11:58.721079",
     "status": "completed"
    },
    "tags": []
   },
   "outputs": [
    {
     "name": "stdout",
     "output_type": "stream",
     "text": [
      "\u001b[1m875/875\u001b[0m \u001b[32m━━━━━━━━━━━━━━━━━━━━\u001b[0m\u001b[37m\u001b[0m \u001b[1m23s\u001b[0m 26ms/step\n"
     ]
    }
   ],
   "source": [
    "y_pred = model.predict(X_test)\n",
    "y_pred_classes = np.argmax(y_pred, axis=1)\n"
   ]
  },
  {
   "cell_type": "code",
   "execution_count": 9,
   "id": "11a43151",
   "metadata": {
    "execution": {
     "iopub.execute_input": "2024-08-25T17:12:25.732864Z",
     "iopub.status.busy": "2024-08-25T17:12:25.731594Z",
     "iopub.status.idle": "2024-08-25T17:12:25.787867Z",
     "shell.execute_reply": "2024-08-25T17:12:25.786538Z"
    },
    "papermill": {
     "duration": 1.206236,
     "end_time": "2024-08-25T17:12:25.790992",
     "exception": false,
     "start_time": "2024-08-25T17:12:24.584756",
     "status": "completed"
    },
    "tags": []
   },
   "outputs": [],
   "source": [
    "submission_df = pd.DataFrame({\n",
    "    'ImageId': np.arange(1, len(y_pred_classes) + 1),\n",
    "    'Label': y_pred_classes\n",
    "})\n",
    "\n",
    "submission_df.to_csv('submission4.csv', index=False)\n"
   ]
  },
  {
   "cell_type": "code",
   "execution_count": null,
   "id": "ade1cee9",
   "metadata": {
    "papermill": {
     "duration": 1.155387,
     "end_time": "2024-08-25T17:12:28.028215",
     "exception": false,
     "start_time": "2024-08-25T17:12:26.872828",
     "status": "completed"
    },
    "tags": []
   },
   "outputs": [],
   "source": []
  }
 ],
 "metadata": {
  "kaggle": {
   "accelerator": "none",
   "dataSources": [
    {
     "datasetId": 5582047,
     "sourceId": 9229289,
     "sourceType": "datasetVersion"
    }
   ],
   "dockerImageVersionId": 30761,
   "isGpuEnabled": false,
   "isInternetEnabled": false,
   "language": "python",
   "sourceType": "notebook"
  },
  "kernelspec": {
   "display_name": "Python 3",
   "language": "python",
   "name": "python3"
  },
  "language_info": {
   "codemirror_mode": {
    "name": "ipython",
    "version": 3
   },
   "file_extension": ".py",
   "mimetype": "text/x-python",
   "name": "python",
   "nbconvert_exporter": "python",
   "pygments_lexer": "ipython3",
   "version": "3.10.14"
  },
  "papermill": {
   "default_parameters": {},
   "duration": 2841.243447,
   "end_time": "2024-08-25T17:12:31.887212",
   "environment_variables": {},
   "exception": null,
   "input_path": "__notebook__.ipynb",
   "output_path": "__notebook__.ipynb",
   "parameters": {},
   "start_time": "2024-08-25T16:25:10.643765",
   "version": "2.6.0"
  }
 },
 "nbformat": 4,
 "nbformat_minor": 5
}
